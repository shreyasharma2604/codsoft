{
 "cells": [
  {
   "cell_type": "code",
   "execution_count": 1,
   "id": "2615e804",
   "metadata": {
    "_cell_guid": "b1076dfc-b9ad-4769-8c92-a6c4dae69d19",
    "_uuid": "8f2839f25d086af736a60e9eeb907d3b93b6e0e5",
    "execution": {
     "iopub.execute_input": "2024-06-25T08:42:00.947574Z",
     "iopub.status.busy": "2024-06-25T08:42:00.947139Z",
     "iopub.status.idle": "2024-06-25T08:42:02.023172Z",
     "shell.execute_reply": "2024-06-25T08:42:02.021589Z"
    },
    "papermill": {
     "duration": 1.092206,
     "end_time": "2024-06-25T08:42:02.025925",
     "exception": false,
     "start_time": "2024-06-25T08:42:00.933719",
     "status": "completed"
    },
    "tags": []
   },
   "outputs": [
    {
     "name": "stdout",
     "output_type": "stream",
     "text": [
      "/kaggle/input/iris-flower-dataset/IRIS.csv\n"
     ]
    }
   ],
   "source": [
    "# This Python 3 environment comes with many helpful analytics libraries installed\n",
    "# It is defined by the kaggle/python Docker image: https://github.com/kaggle/docker-python\n",
    "# For example, here's several helpful packages to load\n",
    "\n",
    "import numpy as np # linear algebra\n",
    "import pandas as pd # data processing, CSV file I/O (e.g. pd.read_csv)\n",
    "\n",
    "# Input data files are available in the read-only \"../input/\" directory\n",
    "# For example, running this (by clicking run or pressing Shift+Enter) will list all files under the input directory\n",
    "\n",
    "import os\n",
    "for dirname, _, filenames in os.walk('/kaggle/input'):\n",
    "    for filename in filenames:\n",
    "        print(os.path.join(dirname, filename))\n",
    "\n",
    "# You can write up to 20GB to the current directory (/kaggle/working/) that gets preserved as output when you create a version using \"Save & Run All\" \n",
    "# You can also write temporary files to /kaggle/temp/, but they won't be saved outside of the current session"
   ]
  },
  {
   "cell_type": "code",
   "execution_count": 2,
   "id": "52925727",
   "metadata": {
    "execution": {
     "iopub.execute_input": "2024-06-25T08:42:02.052034Z",
     "iopub.status.busy": "2024-06-25T08:42:02.050417Z",
     "iopub.status.idle": "2024-06-25T08:42:04.191364Z",
     "shell.execute_reply": "2024-06-25T08:42:04.189895Z"
    },
    "papermill": {
     "duration": 2.157061,
     "end_time": "2024-06-25T08:42:04.194694",
     "exception": false,
     "start_time": "2024-06-25T08:42:02.037633",
     "status": "completed"
    },
    "tags": []
   },
   "outputs": [],
   "source": [
    "import numpy as np\n",
    "import pandas as pd\n",
    "import matplotlib.pyplot as plt\n",
    "import seaborn as sns\n",
    "from sklearn.preprocessing import MinMaxScaler\n",
    "from sklearn.model_selection import train_test_split\n",
    "from sklearn.neighbors import KNeighborsClassifier\n",
    "from sklearn.metrics import accuracy_score\n",
    "from sklearn.preprocessing import LabelEncoder\n",
    "from sklearn.decomposition import PCA\n"
   ]
  },
  {
   "cell_type": "code",
   "execution_count": 3,
   "id": "b07a80ed",
   "metadata": {
    "execution": {
     "iopub.execute_input": "2024-06-25T08:42:04.220854Z",
     "iopub.status.busy": "2024-06-25T08:42:04.219480Z",
     "iopub.status.idle": "2024-06-25T08:42:04.241798Z",
     "shell.execute_reply": "2024-06-25T08:42:04.240521Z"
    },
    "papermill": {
     "duration": 0.039025,
     "end_time": "2024-06-25T08:42:04.245134",
     "exception": false,
     "start_time": "2024-06-25T08:42:04.206109",
     "status": "completed"
    },
    "tags": []
   },
   "outputs": [],
   "source": [
    "df=pd.read_csv(\"/kaggle/input/iris-flower-dataset/IRIS.csv\")\n"
   ]
  },
  {
   "cell_type": "code",
   "execution_count": 4,
   "id": "4f855265",
   "metadata": {
    "execution": {
     "iopub.execute_input": "2024-06-25T08:42:04.270356Z",
     "iopub.status.busy": "2024-06-25T08:42:04.269877Z",
     "iopub.status.idle": "2024-06-25T08:42:04.300744Z",
     "shell.execute_reply": "2024-06-25T08:42:04.299437Z"
    },
    "papermill": {
     "duration": 0.046616,
     "end_time": "2024-06-25T08:42:04.303398",
     "exception": false,
     "start_time": "2024-06-25T08:42:04.256782",
     "status": "completed"
    },
    "tags": []
   },
   "outputs": [
    {
     "data": {
      "text/html": [
       "<div>\n",
       "<style scoped>\n",
       "    .dataframe tbody tr th:only-of-type {\n",
       "        vertical-align: middle;\n",
       "    }\n",
       "\n",
       "    .dataframe tbody tr th {\n",
       "        vertical-align: top;\n",
       "    }\n",
       "\n",
       "    .dataframe thead th {\n",
       "        text-align: right;\n",
       "    }\n",
       "</style>\n",
       "<table border=\"1\" class=\"dataframe\">\n",
       "  <thead>\n",
       "    <tr style=\"text-align: right;\">\n",
       "      <th></th>\n",
       "      <th>sepal_length</th>\n",
       "      <th>sepal_width</th>\n",
       "      <th>petal_length</th>\n",
       "      <th>petal_width</th>\n",
       "      <th>species</th>\n",
       "    </tr>\n",
       "  </thead>\n",
       "  <tbody>\n",
       "    <tr>\n",
       "      <th>0</th>\n",
       "      <td>5.1</td>\n",
       "      <td>3.5</td>\n",
       "      <td>1.4</td>\n",
       "      <td>0.2</td>\n",
       "      <td>Iris-setosa</td>\n",
       "    </tr>\n",
       "    <tr>\n",
       "      <th>1</th>\n",
       "      <td>4.9</td>\n",
       "      <td>3.0</td>\n",
       "      <td>1.4</td>\n",
       "      <td>0.2</td>\n",
       "      <td>Iris-setosa</td>\n",
       "    </tr>\n",
       "    <tr>\n",
       "      <th>2</th>\n",
       "      <td>4.7</td>\n",
       "      <td>3.2</td>\n",
       "      <td>1.3</td>\n",
       "      <td>0.2</td>\n",
       "      <td>Iris-setosa</td>\n",
       "    </tr>\n",
       "    <tr>\n",
       "      <th>3</th>\n",
       "      <td>4.6</td>\n",
       "      <td>3.1</td>\n",
       "      <td>1.5</td>\n",
       "      <td>0.2</td>\n",
       "      <td>Iris-setosa</td>\n",
       "    </tr>\n",
       "    <tr>\n",
       "      <th>4</th>\n",
       "      <td>5.0</td>\n",
       "      <td>3.6</td>\n",
       "      <td>1.4</td>\n",
       "      <td>0.2</td>\n",
       "      <td>Iris-setosa</td>\n",
       "    </tr>\n",
       "  </tbody>\n",
       "</table>\n",
       "</div>"
      ],
      "text/plain": [
       "   sepal_length  sepal_width  petal_length  petal_width      species\n",
       "0           5.1          3.5           1.4          0.2  Iris-setosa\n",
       "1           4.9          3.0           1.4          0.2  Iris-setosa\n",
       "2           4.7          3.2           1.3          0.2  Iris-setosa\n",
       "3           4.6          3.1           1.5          0.2  Iris-setosa\n",
       "4           5.0          3.6           1.4          0.2  Iris-setosa"
      ]
     },
     "execution_count": 4,
     "metadata": {},
     "output_type": "execute_result"
    }
   ],
   "source": [
    "df.head()\n"
   ]
  },
  {
   "cell_type": "code",
   "execution_count": 5,
   "id": "a16c780d",
   "metadata": {
    "execution": {
     "iopub.execute_input": "2024-06-25T08:42:04.328594Z",
     "iopub.status.busy": "2024-06-25T08:42:04.328165Z",
     "iopub.status.idle": "2024-06-25T08:42:04.344556Z",
     "shell.execute_reply": "2024-06-25T08:42:04.343154Z"
    },
    "papermill": {
     "duration": 0.031854,
     "end_time": "2024-06-25T08:42:04.347281",
     "exception": false,
     "start_time": "2024-06-25T08:42:04.315427",
     "status": "completed"
    },
    "tags": []
   },
   "outputs": [
    {
     "data": {
      "text/html": [
       "<div>\n",
       "<style scoped>\n",
       "    .dataframe tbody tr th:only-of-type {\n",
       "        vertical-align: middle;\n",
       "    }\n",
       "\n",
       "    .dataframe tbody tr th {\n",
       "        vertical-align: top;\n",
       "    }\n",
       "\n",
       "    .dataframe thead th {\n",
       "        text-align: right;\n",
       "    }\n",
       "</style>\n",
       "<table border=\"1\" class=\"dataframe\">\n",
       "  <thead>\n",
       "    <tr style=\"text-align: right;\">\n",
       "      <th></th>\n",
       "      <th>sepal_length</th>\n",
       "      <th>sepal_width</th>\n",
       "      <th>petal_length</th>\n",
       "      <th>petal_width</th>\n",
       "      <th>species</th>\n",
       "    </tr>\n",
       "  </thead>\n",
       "  <tbody>\n",
       "    <tr>\n",
       "      <th>145</th>\n",
       "      <td>6.7</td>\n",
       "      <td>3.0</td>\n",
       "      <td>5.2</td>\n",
       "      <td>2.3</td>\n",
       "      <td>Iris-virginica</td>\n",
       "    </tr>\n",
       "    <tr>\n",
       "      <th>146</th>\n",
       "      <td>6.3</td>\n",
       "      <td>2.5</td>\n",
       "      <td>5.0</td>\n",
       "      <td>1.9</td>\n",
       "      <td>Iris-virginica</td>\n",
       "    </tr>\n",
       "    <tr>\n",
       "      <th>147</th>\n",
       "      <td>6.5</td>\n",
       "      <td>3.0</td>\n",
       "      <td>5.2</td>\n",
       "      <td>2.0</td>\n",
       "      <td>Iris-virginica</td>\n",
       "    </tr>\n",
       "    <tr>\n",
       "      <th>148</th>\n",
       "      <td>6.2</td>\n",
       "      <td>3.4</td>\n",
       "      <td>5.4</td>\n",
       "      <td>2.3</td>\n",
       "      <td>Iris-virginica</td>\n",
       "    </tr>\n",
       "    <tr>\n",
       "      <th>149</th>\n",
       "      <td>5.9</td>\n",
       "      <td>3.0</td>\n",
       "      <td>5.1</td>\n",
       "      <td>1.8</td>\n",
       "      <td>Iris-virginica</td>\n",
       "    </tr>\n",
       "  </tbody>\n",
       "</table>\n",
       "</div>"
      ],
      "text/plain": [
       "     sepal_length  sepal_width  petal_length  petal_width         species\n",
       "145           6.7          3.0           5.2          2.3  Iris-virginica\n",
       "146           6.3          2.5           5.0          1.9  Iris-virginica\n",
       "147           6.5          3.0           5.2          2.0  Iris-virginica\n",
       "148           6.2          3.4           5.4          2.3  Iris-virginica\n",
       "149           5.9          3.0           5.1          1.8  Iris-virginica"
      ]
     },
     "execution_count": 5,
     "metadata": {},
     "output_type": "execute_result"
    }
   ],
   "source": [
    "df.tail()\n"
   ]
  },
  {
   "cell_type": "code",
   "execution_count": 6,
   "id": "e052d07f",
   "metadata": {
    "execution": {
     "iopub.execute_input": "2024-06-25T08:42:04.372933Z",
     "iopub.status.busy": "2024-06-25T08:42:04.372495Z",
     "iopub.status.idle": "2024-06-25T08:42:04.404267Z",
     "shell.execute_reply": "2024-06-25T08:42:04.402828Z"
    },
    "papermill": {
     "duration": 0.047964,
     "end_time": "2024-06-25T08:42:04.407404",
     "exception": false,
     "start_time": "2024-06-25T08:42:04.359440",
     "status": "completed"
    },
    "tags": []
   },
   "outputs": [
    {
     "name": "stdout",
     "output_type": "stream",
     "text": [
      "<class 'pandas.core.frame.DataFrame'>\n",
      "RangeIndex: 150 entries, 0 to 149\n",
      "Data columns (total 5 columns):\n",
      " #   Column        Non-Null Count  Dtype  \n",
      "---  ------        --------------  -----  \n",
      " 0   sepal_length  150 non-null    float64\n",
      " 1   sepal_width   150 non-null    float64\n",
      " 2   petal_length  150 non-null    float64\n",
      " 3   petal_width   150 non-null    float64\n",
      " 4   species       150 non-null    object \n",
      "dtypes: float64(4), object(1)\n",
      "memory usage: 6.0+ KB\n"
     ]
    }
   ],
   "source": [
    "df.info()\n"
   ]
  },
  {
   "cell_type": "code",
   "execution_count": 7,
   "id": "45801f8b",
   "metadata": {
    "execution": {
     "iopub.execute_input": "2024-06-25T08:42:04.432817Z",
     "iopub.status.busy": "2024-06-25T08:42:04.432408Z",
     "iopub.status.idle": "2024-06-25T08:42:04.465126Z",
     "shell.execute_reply": "2024-06-25T08:42:04.463665Z"
    },
    "papermill": {
     "duration": 0.04908,
     "end_time": "2024-06-25T08:42:04.468284",
     "exception": false,
     "start_time": "2024-06-25T08:42:04.419204",
     "status": "completed"
    },
    "tags": []
   },
   "outputs": [
    {
     "data": {
      "text/html": [
       "<div>\n",
       "<style scoped>\n",
       "    .dataframe tbody tr th:only-of-type {\n",
       "        vertical-align: middle;\n",
       "    }\n",
       "\n",
       "    .dataframe tbody tr th {\n",
       "        vertical-align: top;\n",
       "    }\n",
       "\n",
       "    .dataframe thead th {\n",
       "        text-align: right;\n",
       "    }\n",
       "</style>\n",
       "<table border=\"1\" class=\"dataframe\">\n",
       "  <thead>\n",
       "    <tr style=\"text-align: right;\">\n",
       "      <th></th>\n",
       "      <th>count</th>\n",
       "      <th>mean</th>\n",
       "      <th>std</th>\n",
       "      <th>min</th>\n",
       "      <th>25%</th>\n",
       "      <th>50%</th>\n",
       "      <th>75%</th>\n",
       "      <th>max</th>\n",
       "    </tr>\n",
       "  </thead>\n",
       "  <tbody>\n",
       "    <tr>\n",
       "      <th>sepal_length</th>\n",
       "      <td>150.0</td>\n",
       "      <td>5.843333</td>\n",
       "      <td>0.828066</td>\n",
       "      <td>4.3</td>\n",
       "      <td>5.1</td>\n",
       "      <td>5.80</td>\n",
       "      <td>6.4</td>\n",
       "      <td>7.9</td>\n",
       "    </tr>\n",
       "    <tr>\n",
       "      <th>sepal_width</th>\n",
       "      <td>150.0</td>\n",
       "      <td>3.054000</td>\n",
       "      <td>0.433594</td>\n",
       "      <td>2.0</td>\n",
       "      <td>2.8</td>\n",
       "      <td>3.00</td>\n",
       "      <td>3.3</td>\n",
       "      <td>4.4</td>\n",
       "    </tr>\n",
       "    <tr>\n",
       "      <th>petal_length</th>\n",
       "      <td>150.0</td>\n",
       "      <td>3.758667</td>\n",
       "      <td>1.764420</td>\n",
       "      <td>1.0</td>\n",
       "      <td>1.6</td>\n",
       "      <td>4.35</td>\n",
       "      <td>5.1</td>\n",
       "      <td>6.9</td>\n",
       "    </tr>\n",
       "    <tr>\n",
       "      <th>petal_width</th>\n",
       "      <td>150.0</td>\n",
       "      <td>1.198667</td>\n",
       "      <td>0.763161</td>\n",
       "      <td>0.1</td>\n",
       "      <td>0.3</td>\n",
       "      <td>1.30</td>\n",
       "      <td>1.8</td>\n",
       "      <td>2.5</td>\n",
       "    </tr>\n",
       "  </tbody>\n",
       "</table>\n",
       "</div>"
      ],
      "text/plain": [
       "              count      mean       std  min  25%   50%  75%  max\n",
       "sepal_length  150.0  5.843333  0.828066  4.3  5.1  5.80  6.4  7.9\n",
       "sepal_width   150.0  3.054000  0.433594  2.0  2.8  3.00  3.3  4.4\n",
       "petal_length  150.0  3.758667  1.764420  1.0  1.6  4.35  5.1  6.9\n",
       "petal_width   150.0  1.198667  0.763161  0.1  0.3  1.30  1.8  2.5"
      ]
     },
     "execution_count": 7,
     "metadata": {},
     "output_type": "execute_result"
    }
   ],
   "source": [
    "df.describe().T"
   ]
  },
  {
   "cell_type": "code",
   "execution_count": 8,
   "id": "0ac81c2d",
   "metadata": {
    "execution": {
     "iopub.execute_input": "2024-06-25T08:42:04.495305Z",
     "iopub.status.busy": "2024-06-25T08:42:04.494772Z",
     "iopub.status.idle": "2024-06-25T08:42:04.504069Z",
     "shell.execute_reply": "2024-06-25T08:42:04.502608Z"
    },
    "papermill": {
     "duration": 0.026562,
     "end_time": "2024-06-25T08:42:04.507747",
     "exception": false,
     "start_time": "2024-06-25T08:42:04.481185",
     "status": "completed"
    },
    "tags": []
   },
   "outputs": [
    {
     "data": {
      "text/plain": [
       "array(['Iris-setosa', 'Iris-versicolor', 'Iris-virginica'], dtype=object)"
      ]
     },
     "execution_count": 8,
     "metadata": {},
     "output_type": "execute_result"
    }
   ],
   "source": [
    "df[\"species\"].unique()"
   ]
  },
  {
   "cell_type": "code",
   "execution_count": 9,
   "id": "68619989",
   "metadata": {
    "execution": {
     "iopub.execute_input": "2024-06-25T08:42:04.534911Z",
     "iopub.status.busy": "2024-06-25T08:42:04.534357Z",
     "iopub.status.idle": "2024-06-25T08:42:04.546104Z",
     "shell.execute_reply": "2024-06-25T08:42:04.544429Z"
    },
    "papermill": {
     "duration": 0.028922,
     "end_time": "2024-06-25T08:42:04.549279",
     "exception": false,
     "start_time": "2024-06-25T08:42:04.520357",
     "status": "completed"
    },
    "tags": []
   },
   "outputs": [
    {
     "data": {
      "text/plain": [
       "species\n",
       "Iris-setosa        50\n",
       "Iris-versicolor    50\n",
       "Iris-virginica     50\n",
       "Name: count, dtype: int64"
      ]
     },
     "execution_count": 9,
     "metadata": {},
     "output_type": "execute_result"
    }
   ],
   "source": [
    "df[\"species\"].value_counts()\n"
   ]
  },
  {
   "cell_type": "code",
   "execution_count": 10,
   "id": "ef9dd9ac",
   "metadata": {
    "execution": {
     "iopub.execute_input": "2024-06-25T08:42:04.584251Z",
     "iopub.status.busy": "2024-06-25T08:42:04.583683Z",
     "iopub.status.idle": "2024-06-25T08:42:04.907933Z",
     "shell.execute_reply": "2024-06-25T08:42:04.906817Z"
    },
    "papermill": {
     "duration": 0.34623,
     "end_time": "2024-06-25T08:42:04.910992",
     "exception": false,
     "start_time": "2024-06-25T08:42:04.564762",
     "status": "completed"
    },
    "tags": []
   },
   "outputs": [
    {
     "data": {
      "text/plain": [
       "<Axes: >"
      ]
     },
     "execution_count": 10,
     "metadata": {},
     "output_type": "execute_result"
    },
    {
     "data": {
      "image/png": "[encoded data removed]",
      "text/plain": [
       "<Figure size 640x480 with 1 Axes>"
      ]
     },
     "metadata": {},
     "output_type": "display_data"
    }
   ],
   "source": [
    "df[\"species\"].hist()"
   ]
  },
  {
   "cell_type": "code",
   "execution_count": 11,
   "id": "47f8ace6",
   "metadata": {
    "execution": {
     "iopub.execute_input": "2024-06-25T08:42:04.941292Z",
     "iopub.status.busy": "2024-06-25T08:42:04.940282Z",
     "iopub.status.idle": "2024-06-25T08:42:04.949675Z",
     "shell.execute_reply": "2024-06-25T08:42:04.948440Z"
    },
    "papermill": {
     "duration": 0.026127,
     "end_time": "2024-06-25T08:42:04.952493",
     "exception": false,
     "start_time": "2024-06-25T08:42:04.926366",
     "status": "completed"
    },
    "tags": []
   },
   "outputs": [
    {
     "data": {
      "text/plain": [
       "sepal_length    0\n",
       "sepal_width     0\n",
       "petal_length    0\n",
       "petal_width     0\n",
       "species         0\n",
       "dtype: int64"
      ]
     },
     "execution_count": 11,
     "metadata": {},
     "output_type": "execute_result"
    }
   ],
   "source": [
    "df.isnull().sum()"
   ]
  },
  {
   "cell_type": "code",
   "execution_count": 12,
   "id": "696f71c6",
   "metadata": {
    "execution": {
     "iopub.execute_input": "2024-06-25T08:42:04.983823Z",
     "iopub.status.busy": "2024-06-25T08:42:04.983434Z",
     "iopub.status.idle": "2024-06-25T08:42:04.995992Z",
     "shell.execute_reply": "2024-06-25T08:42:04.994936Z"
    },
    "papermill": {
     "duration": 0.028815,
     "end_time": "2024-06-25T08:42:04.998308",
     "exception": false,
     "start_time": "2024-06-25T08:42:04.969493",
     "status": "completed"
    },
    "tags": []
   },
   "outputs": [],
   "source": [
    "Setosa=df[df[\"species\"].isin([\"Iris-setosa\"])]\n",
    "Versicolour=df[df[\"species\"].isin([\"Iris-versicolor\"])]\n",
    "Virginica=df[df[\"species\"].isin([\"Iris-virginica\"])]"
   ]
  },
  {
   "cell_type": "code",
   "execution_count": 13,
   "id": "93f8caa9",
   "metadata": {
    "execution": {
     "iopub.execute_input": "2024-06-25T08:42:05.025251Z",
     "iopub.status.busy": "2024-06-25T08:42:05.024852Z",
     "iopub.status.idle": "2024-06-25T08:42:05.556724Z",
     "shell.execute_reply": "2024-06-25T08:42:05.555516Z"
    },
    "papermill": {
     "duration": 0.548511,
     "end_time": "2024-06-25T08:42:05.559329",
     "exception": false,
     "start_time": "2024-06-25T08:42:05.010818",
     "status": "completed"
    },
    "tags": []
   },
   "outputs": [
    {
     "data": {
      "text/plain": [
       "Text(0.5, 1.0, 'classification of Setosa,Versicolour and Virginica according to petal_length and petal_width')"
      ]
     },
     "execution_count": 13,
     "metadata": {},
     "output_type": "execute_result"
    },
    {
     "data": {
      "image/png": "[encoded data removed]",
      "text/plain": [
       "<Figure size 1000x1000 with 1 Axes>"
      ]
     },
     "metadata": {},
     "output_type": "display_data"
    }
   ],
   "source": [
    "fig,ax=plt.subplots(figsize=(10,10))\n",
    "ax.scatter(Setosa[\"petal_length\"],Setosa[\"petal_width\"],c=\"b\",marker=\"o\",label=\"Setosa\")\n",
    "ax.scatter(Versicolour[\"petal_length\"],Versicolour[\"petal_width\"],c=\"orange\",marker=\"o\",label=\"Versicolour\")\n",
    "ax.scatter(Virginica[\"petal_length\"],Virginica[\"petal_width\"],c=\"g\",marker=\"o\",label=\"Virginica\")\n",
    "leg=ax.legend()\n",
    "ax.set_xlabel(\"petal_length\")\n",
    "ax.set_ylabel(\"petal_width\")\n",
    "ax.set_title(\"classification of Setosa,Versicolour and Virginica according to petal_length and petal_width\")\n"
   ]
  },
  {
   "cell_type": "code",
   "execution_count": 14,
   "id": "f4313545",
   "metadata": {
    "execution": {
     "iopub.execute_input": "2024-06-25T08:42:05.588303Z",
     "iopub.status.busy": "2024-06-25T08:42:05.587909Z",
     "iopub.status.idle": "2024-06-25T08:42:05.593623Z",
     "shell.execute_reply": "2024-06-25T08:42:05.592644Z"
    },
    "papermill": {
     "duration": 0.023023,
     "end_time": "2024-06-25T08:42:05.596092",
     "exception": false,
     "start_time": "2024-06-25T08:42:05.573069",
     "status": "completed"
    },
    "tags": []
   },
   "outputs": [],
   "source": [
    "le = LabelEncoder()\n",
    "df['species']=le.fit_transform(df['species'])"
   ]
  },
  {
   "cell_type": "code",
   "execution_count": 15,
   "id": "4ef8998d",
   "metadata": {
    "execution": {
     "iopub.execute_input": "2024-06-25T08:42:05.626916Z",
     "iopub.status.busy": "2024-06-25T08:42:05.626501Z",
     "iopub.status.idle": "2024-06-25T08:42:06.136227Z",
     "shell.execute_reply": "2024-06-25T08:42:06.134889Z"
    },
    "papermill": {
     "duration": 0.527487,
     "end_time": "2024-06-25T08:42:06.139091",
     "exception": false,
     "start_time": "2024-06-25T08:42:05.611604",
     "status": "completed"
    },
    "tags": []
   },
   "outputs": [
    {
     "data": {
      "image/png": "[encoded data removed]",
      "text/plain": [
       "<Figure size 2000x1000 with 2 Axes>"
      ]
     },
     "metadata": {},
     "output_type": "display_data"
    }
   ],
   "source": [
    "correlation_matrix = df.corr()\n",
    "plt.figure(figsize=(20, 10))\n",
    "sns.heatmap(correlation_matrix, annot=True, cmap='coolwarm')\n",
    "plt.title('Correlation Heatmap')\n",
    "plt.show()"
   ]
  },
  {
   "cell_type": "code",
   "execution_count": 16,
   "id": "7a8cbf86",
   "metadata": {
    "execution": {
     "iopub.execute_input": "2024-06-25T08:42:06.171705Z",
     "iopub.status.busy": "2024-06-25T08:42:06.171215Z",
     "iopub.status.idle": "2024-06-25T08:42:06.178421Z",
     "shell.execute_reply": "2024-06-25T08:42:06.177098Z"
    },
    "papermill": {
     "duration": 0.026861,
     "end_time": "2024-06-25T08:42:06.181049",
     "exception": false,
     "start_time": "2024-06-25T08:42:06.154188",
     "status": "completed"
    },
    "tags": []
   },
   "outputs": [],
   "source": [
    "X=df.drop(\"species\",axis=1)\n",
    "y=df[\"species\"]"
   ]
  },
  {
   "cell_type": "code",
   "execution_count": 17,
   "id": "40e06c5c",
   "metadata": {
    "execution": {
     "iopub.execute_input": "2024-06-25T08:42:06.213472Z",
     "iopub.status.busy": "2024-06-25T08:42:06.213054Z",
     "iopub.status.idle": "2024-06-25T08:42:06.218780Z",
     "shell.execute_reply": "2024-06-25T08:42:06.217480Z"
    },
    "papermill": {
     "duration": 0.024725,
     "end_time": "2024-06-25T08:42:06.221345",
     "exception": false,
     "start_time": "2024-06-25T08:42:06.196620",
     "status": "completed"
    },
    "tags": []
   },
   "outputs": [],
   "source": [
    "Features=X.columns"
   ]
  },
  {
   "cell_type": "code",
   "execution_count": 18,
   "id": "2cd5cfe0",
   "metadata": {
    "execution": {
     "iopub.execute_input": "2024-06-25T08:42:06.254067Z",
     "iopub.status.busy": "2024-06-25T08:42:06.253671Z",
     "iopub.status.idle": "2024-06-25T08:42:06.263112Z",
     "shell.execute_reply": "2024-06-25T08:42:06.261668Z"
    },
    "papermill": {
     "duration": 0.028398,
     "end_time": "2024-06-25T08:42:06.265822",
     "exception": false,
     "start_time": "2024-06-25T08:42:06.237424",
     "status": "completed"
    },
    "tags": []
   },
   "outputs": [],
   "source": [
    "scaler=MinMaxScaler()\n",
    "X=scaler.fit_transform(X)\n"
   ]
  },
  {
   "cell_type": "code",
   "execution_count": 19,
   "id": "0aa20674",
   "metadata": {
    "execution": {
     "iopub.execute_input": "2024-06-25T08:42:06.297353Z",
     "iopub.status.busy": "2024-06-25T08:42:06.296937Z",
     "iopub.status.idle": "2024-06-25T08:42:06.303342Z",
     "shell.execute_reply": "2024-06-25T08:42:06.301825Z"
    },
    "papermill": {
     "duration": 0.025322,
     "end_time": "2024-06-25T08:42:06.306052",
     "exception": false,
     "start_time": "2024-06-25T08:42:06.280730",
     "status": "completed"
    },
    "tags": []
   },
   "outputs": [],
   "source": [
    "X=pd.DataFrame(X,columns=Features)\n"
   ]
  },
  {
   "cell_type": "code",
   "execution_count": 20,
   "id": "11bb2758",
   "metadata": {
    "execution": {
     "iopub.execute_input": "2024-06-25T08:42:06.337286Z",
     "iopub.status.busy": "2024-06-25T08:42:06.336887Z",
     "iopub.status.idle": "2024-06-25T08:42:06.350267Z",
     "shell.execute_reply": "2024-06-25T08:42:06.349011Z"
    },
    "papermill": {
     "duration": 0.03198,
     "end_time": "2024-06-25T08:42:06.353023",
     "exception": false,
     "start_time": "2024-06-25T08:42:06.321043",
     "status": "completed"
    },
    "tags": []
   },
   "outputs": [
    {
     "data": {
      "text/html": [
       "<div>\n",
       "<style scoped>\n",
       "    .dataframe tbody tr th:only-of-type {\n",
       "        vertical-align: middle;\n",
       "    }\n",
       "\n",
       "    .dataframe tbody tr th {\n",
       "        vertical-align: top;\n",
       "    }\n",
       "\n",
       "    .dataframe thead th {\n",
       "        text-align: right;\n",
       "    }\n",
       "</style>\n",
       "<table border=\"1\" class=\"dataframe\">\n",
       "  <thead>\n",
       "    <tr style=\"text-align: right;\">\n",
       "      <th></th>\n",
       "      <th>sepal_length</th>\n",
       "      <th>sepal_width</th>\n",
       "      <th>petal_length</th>\n",
       "      <th>petal_width</th>\n",
       "    </tr>\n",
       "  </thead>\n",
       "  <tbody>\n",
       "    <tr>\n",
       "      <th>0</th>\n",
       "      <td>0.222222</td>\n",
       "      <td>0.625000</td>\n",
       "      <td>0.067797</td>\n",
       "      <td>0.041667</td>\n",
       "    </tr>\n",
       "    <tr>\n",
       "      <th>1</th>\n",
       "      <td>0.166667</td>\n",
       "      <td>0.416667</td>\n",
       "      <td>0.067797</td>\n",
       "      <td>0.041667</td>\n",
       "    </tr>\n",
       "    <tr>\n",
       "      <th>2</th>\n",
       "      <td>0.111111</td>\n",
       "      <td>0.500000</td>\n",
       "      <td>0.050847</td>\n",
       "      <td>0.041667</td>\n",
       "    </tr>\n",
       "    <tr>\n",
       "      <th>3</th>\n",
       "      <td>0.083333</td>\n",
       "      <td>0.458333</td>\n",
       "      <td>0.084746</td>\n",
       "      <td>0.041667</td>\n",
       "    </tr>\n",
       "    <tr>\n",
       "      <th>4</th>\n",
       "      <td>0.194444</td>\n",
       "      <td>0.666667</td>\n",
       "      <td>0.067797</td>\n",
       "      <td>0.041667</td>\n",
       "    </tr>\n",
       "  </tbody>\n",
       "</table>\n",
       "</div>"
      ],
      "text/plain": [
       "   sepal_length  sepal_width  petal_length  petal_width\n",
       "0      0.222222     0.625000      0.067797     0.041667\n",
       "1      0.166667     0.416667      0.067797     0.041667\n",
       "2      0.111111     0.500000      0.050847     0.041667\n",
       "3      0.083333     0.458333      0.084746     0.041667\n",
       "4      0.194444     0.666667      0.067797     0.041667"
      ]
     },
     "execution_count": 20,
     "metadata": {},
     "output_type": "execute_result"
    }
   ],
   "source": [
    "X.head()\n"
   ]
  },
  {
   "cell_type": "code",
   "execution_count": 21,
   "id": "f45f7a20",
   "metadata": {
    "execution": {
     "iopub.execute_input": "2024-06-25T08:42:06.384860Z",
     "iopub.status.busy": "2024-06-25T08:42:06.384440Z",
     "iopub.status.idle": "2024-06-25T08:42:06.394411Z",
     "shell.execute_reply": "2024-06-25T08:42:06.393115Z"
    },
    "papermill": {
     "duration": 0.02887,
     "end_time": "2024-06-25T08:42:06.396996",
     "exception": false,
     "start_time": "2024-06-25T08:42:06.368126",
     "status": "completed"
    },
    "tags": []
   },
   "outputs": [],
   "source": [
    "X_train, X_test, y_train, y_test = train_test_split(X, y, test_size=0.2, random_state=42,shuffle=True)"
   ]
  },
  {
   "cell_type": "code",
   "execution_count": 22,
   "id": "fb41cd96",
   "metadata": {
    "execution": {
     "iopub.execute_input": "2024-06-25T08:42:06.429017Z",
     "iopub.status.busy": "2024-06-25T08:42:06.427768Z",
     "iopub.status.idle": "2024-06-25T08:42:06.436686Z",
     "shell.execute_reply": "2024-06-25T08:42:06.435431Z"
    },
    "papermill": {
     "duration": 0.027401,
     "end_time": "2024-06-25T08:42:06.439087",
     "exception": false,
     "start_time": "2024-06-25T08:42:06.411686",
     "status": "completed"
    },
    "tags": []
   },
   "outputs": [
    {
     "data": {
      "text/plain": [
       "((120, 4), (120,), (30, 4), (30,))"
      ]
     },
     "execution_count": 22,
     "metadata": {},
     "output_type": "execute_result"
    }
   ],
   "source": [
    "X_train.shape,y_train.shape,X_test.shape,y_test.shape"
   ]
  },
  {
   "cell_type": "code",
   "execution_count": 23,
   "id": "2c0b1448",
   "metadata": {
    "execution": {
     "iopub.execute_input": "2024-06-25T08:42:06.470252Z",
     "iopub.status.busy": "2024-06-25T08:42:06.469867Z",
     "iopub.status.idle": "2024-06-25T08:42:06.507115Z",
     "shell.execute_reply": "2024-06-25T08:42:06.505486Z"
    },
    "papermill": {
     "duration": 0.056247,
     "end_time": "2024-06-25T08:42:06.509961",
     "exception": false,
     "start_time": "2024-06-25T08:42:06.453714",
     "status": "completed"
    },
    "tags": []
   },
   "outputs": [
    {
     "name": "stdout",
     "output_type": "stream",
     "text": [
      "KNNClassifierModel Train Score is :  0.975\n",
      "KNNClassifierModel Test Score is :  1.0\n",
      "1.0\n"
     ]
    }
   ],
   "source": [
    "knn=KNeighborsClassifier(n_neighbors=15,algorithm=\"auto\")\n",
    "knn.fit(X_train,y_train)\n",
    "print('KNNClassifierModel Train Score is : ' , knn.score(X_train, y_train))\n",
    "print('KNNClassifierModel Test Score is : ' , knn.score(X_test, y_test))\n",
    "y_pred = knn.predict(X_test)\n",
    "print(accuracy_score(y_test, y_pred))"
   ]
  },
  {
   "cell_type": "code",
   "execution_count": 24,
   "id": "cfc4f889",
   "metadata": {
    "execution": {
     "iopub.execute_input": "2024-06-25T08:42:06.541750Z",
     "iopub.status.busy": "2024-06-25T08:42:06.541272Z",
     "iopub.status.idle": "2024-06-25T08:42:06.550687Z",
     "shell.execute_reply": "2024-06-25T08:42:06.549473Z"
    },
    "papermill": {
     "duration": 0.028057,
     "end_time": "2024-06-25T08:42:06.553081",
     "exception": false,
     "start_time": "2024-06-25T08:42:06.525024",
     "status": "completed"
    },
    "tags": []
   },
   "outputs": [],
   "source": [
    "def plot_elbow_method(X_train, X_test, title, color='blue'):\n",
    "    acc = []\n",
    "    err = []\n",
    "    ks = list(range(1, 100, 2))\n",
    "    \n",
    "    for k in ks:\n",
    "        knn = KNeighborsClassifier(n_neighbors=k,algorithm=\"auto\")\n",
    "        knn.fit(X_train, y_train)\n",
    "        y_pred = knn.predict(X_test)\n",
    "        accuracy = accuracy_score(y_test, y_pred)\n",
    "        error = np.mean(y_pred != y_test)\n",
    "        err.append(error)\n",
    "        acc.append(accuracy)\n",
    "\n",
    "    plt.figure()\n",
    "    plt.title(title)\n",
    "    plt.xlabel(\"Number of Ks\")\n",
    "    plt.ylabel(\"Error\")\n",
    "    plt.plot(ks, err, color=color)"
   ]
  },
  {
   "cell_type": "code",
   "execution_count": 25,
   "id": "9bf105fc",
   "metadata": {
    "execution": {
     "iopub.execute_input": "2024-06-25T08:42:06.585670Z",
     "iopub.status.busy": "2024-06-25T08:42:06.585157Z",
     "iopub.status.idle": "2024-06-25T08:42:07.383180Z",
     "shell.execute_reply": "2024-06-25T08:42:07.381898Z"
    },
    "papermill": {
     "duration": 0.817683,
     "end_time": "2024-06-25T08:42:07.385715",
     "exception": false,
     "start_time": "2024-06-25T08:42:06.568032",
     "status": "completed"
    },
    "tags": []
   },
   "outputs": [
    {
     "data": {
      "image/png": "[encoded data removed]",
      "text/plain": [
       "<Figure size 640x480 with 1 Axes>"
      ]
     },
     "metadata": {},
     "output_type": "display_data"
    }
   ],
   "source": [
    "plot_elbow_method(X_train, X_test, \"Elbow Method for X_train and X_test\")"
   ]
  },
  {
   "cell_type": "code",
   "execution_count": 26,
   "id": "3e43e08e",
   "metadata": {
    "execution": {
     "iopub.execute_input": "2024-06-25T08:42:07.418020Z",
     "iopub.status.busy": "2024-06-25T08:42:07.417628Z",
     "iopub.status.idle": "2024-06-25T08:42:07.438656Z",
     "shell.execute_reply": "2024-06-25T08:42:07.437681Z"
    },
    "papermill": {
     "duration": 0.040147,
     "end_time": "2024-06-25T08:42:07.441190",
     "exception": false,
     "start_time": "2024-06-25T08:42:07.401043",
     "status": "completed"
    },
    "tags": []
   },
   "outputs": [],
   "source": [
    "pca = PCA(n_components=2)\n",
    "pca.fit(X_train)\n",
    "X_train_pca = pca.transform(X_train)\n",
    "X_test_pca = pca.transform(X_test)"
   ]
  },
  {
   "cell_type": "code",
   "execution_count": 27,
   "id": "ce2983eb",
   "metadata": {
    "execution": {
     "iopub.execute_input": "2024-06-25T08:42:07.473235Z",
     "iopub.status.busy": "2024-06-25T08:42:07.472813Z",
     "iopub.status.idle": "2024-06-25T08:42:07.480605Z",
     "shell.execute_reply": "2024-06-25T08:42:07.479460Z"
    },
    "papermill": {
     "duration": 0.026788,
     "end_time": "2024-06-25T08:42:07.483114",
     "exception": false,
     "start_time": "2024-06-25T08:42:07.456326",
     "status": "completed"
    },
    "tags": []
   },
   "outputs": [
    {
     "data": {
      "text/plain": [
       "((120, 2), (120,), (30, 2), (30,))"
      ]
     },
     "execution_count": 27,
     "metadata": {},
     "output_type": "execute_result"
    }
   ],
   "source": [
    "X_train_pca.shape,y_train.shape,X_test_pca.shape,y_test.shape"
   ]
  },
  {
   "cell_type": "code",
   "execution_count": 28,
   "id": "7dd932ea",
   "metadata": {
    "execution": {
     "iopub.execute_input": "2024-06-25T08:42:07.516254Z",
     "iopub.status.busy": "2024-06-25T08:42:07.515855Z",
     "iopub.status.idle": "2024-06-25T08:42:08.139655Z",
     "shell.execute_reply": "2024-06-25T08:42:08.138440Z"
    },
    "papermill": {
     "duration": 0.64308,
     "end_time": "2024-06-25T08:42:08.142239",
     "exception": false,
     "start_time": "2024-06-25T08:42:07.499159",
     "status": "completed"
    },
    "tags": []
   },
   "outputs": [
    {
     "data": {
      "image/png": "[encoded data removed]",
      "text/plain": [
       "<Figure size 640x480 with 1 Axes>"
      ]
     },
     "metadata": {},
     "output_type": "display_data"
    }
   ],
   "source": [
    "plot_elbow_method(X_train_pca, X_test_pca, \"Elbow Method for PCA-transformed X_train and X_test\", color='red')"
   ]
  },
  {
   "cell_type": "code",
   "execution_count": 29,
   "id": "f2c2b32a",
   "metadata": {
    "execution": {
     "iopub.execute_input": "2024-06-25T08:42:08.175598Z",
     "iopub.status.busy": "2024-06-25T08:42:08.175194Z",
     "iopub.status.idle": "2024-06-25T08:42:08.205445Z",
     "shell.execute_reply": "2024-06-25T08:42:08.204097Z"
    },
    "papermill": {
     "duration": 0.050029,
     "end_time": "2024-06-25T08:42:08.208134",
     "exception": false,
     "start_time": "2024-06-25T08:42:08.158105",
     "status": "completed"
    },
    "tags": []
   },
   "outputs": [
    {
     "name": "stdout",
     "output_type": "stream",
     "text": [
      "KNNClassifierModel Train Score is :  0.9583333333333334\n",
      "KNNClassifierModel Test Score is :  0.9666666666666667\n",
      "0.9666666666666667\n"
     ]
    }
   ],
   "source": [
    "knn=KNeighborsClassifier(n_neighbors=15)\n",
    "knn.fit(X_train_pca,y_train)\n",
    "print('KNNClassifierModel Train Score is : ' , knn.score(X_train_pca, y_train))\n",
    "print('KNNClassifierModel Test Score is : ' , knn.score(X_test_pca, y_test))\n",
    "y_pred = knn.predict(X_test_pca)\n",
    "print(accuracy_score(y_test, y_pred))"
   ]
  },
  {
   "cell_type": "code",
   "execution_count": 30,
   "id": "f201e115",
   "metadata": {
    "execution": {
     "iopub.execute_input": "2024-06-25T08:42:08.243398Z",
     "iopub.status.busy": "2024-06-25T08:42:08.242971Z",
     "iopub.status.idle": "2024-06-25T08:42:08.256563Z",
     "shell.execute_reply": "2024-06-25T08:42:08.255181Z"
    },
    "papermill": {
     "duration": 0.034425,
     "end_time": "2024-06-25T08:42:08.259290",
     "exception": false,
     "start_time": "2024-06-25T08:42:08.224865",
     "status": "completed"
    },
    "tags": []
   },
   "outputs": [],
   "source": [
    "from collections import Counter\n",
    "from sklearn.neighbors import KDTree\n",
    "\n",
    "class KNN:\n",
    "    def __init__(self, n_neighbors=5, algorithm='brute'): \n",
    "        self.n_neighbors = n_neighbors\n",
    "        self.algorithm = algorithm\n",
    "        self.x_train = None\n",
    "        self.y_train = None\n",
    "        self.tree = None\n",
    "\n",
    "    def fit(self, x_train, y_train):\n",
    "        self.x_train = np.array(x_train)\n",
    "        self.y_train = np.array(y_train)\n",
    "\n",
    "        if self.algorithm == 'kd_tree':\n",
    "            self.tree = KDTree(self.x_train)\n",
    "\n",
    "    def predict(self, x_test):\n",
    "        x_test = np.array(x_test)\n",
    "        predictions = []\n",
    "\n",
    "        for test_point in x_test:\n",
    "            if self.algorithm == 'brute':\n",
    "                distances = np.sqrt(np.sum((self.x_train - test_point)**2, axis=1))\n",
    "                nearest_indices = distances.argsort()[:self.n_neighbors]\n",
    "            elif self.algorithm == 'kd_tree':\n",
    "                _, nearest_indices = self.tree.query([test_point], k=self.n_neighbors)\n",
    "\n",
    "            nearest_labels = self.y_train[nearest_indices]\n",
    "            most_common_label = Counter(nearest_labels).most_common(1)[0][0]\n",
    "            predictions.append(most_common_label)\n",
    "\n",
    "        return predictions\n",
    "\n",
    "    def accuracy(self, x_test, y_test):\n",
    "        predictions = self.predict(x_test)\n",
    "        correct = sum(1 for pred, true in zip(predictions, y_test) if pred == true)\n",
    "        return correct / len(y_test)\n"
   ]
  },
  {
   "cell_type": "code",
   "execution_count": 31,
   "id": "e49b72dd",
   "metadata": {
    "execution": {
     "iopub.execute_input": "2024-06-25T08:42:08.294217Z",
     "iopub.status.busy": "2024-06-25T08:42:08.293807Z",
     "iopub.status.idle": "2024-06-25T08:42:08.303645Z",
     "shell.execute_reply": "2024-06-25T08:42:08.302433Z"
    },
    "papermill": {
     "duration": 0.030619,
     "end_time": "2024-06-25T08:42:08.306204",
     "exception": false,
     "start_time": "2024-06-25T08:42:08.275585",
     "status": "completed"
    },
    "tags": []
   },
   "outputs": [
    {
     "name": "stdout",
     "output_type": "stream",
     "text": [
      "Accuracy: 1.0\n"
     ]
    }
   ],
   "source": [
    "knn = KNN(n_neighbors=5, algorithm='brute')\n",
    "\n",
    " \n",
    "knn.fit(X_train, y_train)\n",
    "\n",
    " \n",
    "accuracy = knn.accuracy(X_test, y_test)\n",
    "print(\"Accuracy:\", accuracy)"
   ]
  },
  {
   "cell_type": "code",
   "execution_count": 32,
   "id": "3fe631a3",
   "metadata": {
    "execution": {
     "iopub.execute_input": "2024-06-25T08:42:08.340832Z",
     "iopub.status.busy": "2024-06-25T08:42:08.340437Z",
     "iopub.status.idle": "2024-06-25T08:42:08.754640Z",
     "shell.execute_reply": "2024-06-25T08:42:08.753285Z"
    },
    "papermill": {
     "duration": 0.434309,
     "end_time": "2024-06-25T08:42:08.757222",
     "exception": false,
     "start_time": "2024-06-25T08:42:08.322913",
     "status": "completed"
    },
    "tags": []
   },
   "outputs": [
    {
     "data": {
      "image/png": "[encoded data removed]",
      "text/plain": [
       "<Figure size 640x480 with 1 Axes>"
      ]
     },
     "metadata": {},
     "output_type": "display_data"
    }
   ],
   "source": [
    "acc = []\n",
    "err = []\n",
    "ks = list(range(1, 100, 2))\n",
    "\n",
    "for k in ks:\n",
    "    knn = KNN(n_neighbors=k, algorithm='brute')  \n",
    "    knn.fit(X_train, y_train)\n",
    "    accuracy = knn.accuracy(X_test, y_test)\n",
    "    error = 1 - accuracy\n",
    "    acc.append(accuracy)\n",
    "    err.append(error)\n",
    "\n",
    "plt.figure()\n",
    "plt.title(\"KNN Accuracy and Error\")\n",
    "plt.xlabel(\"Number of Neighbors (k)\")\n",
    "plt.ylabel(\"Accuracy/Error\")\n",
    "plt.plot(ks, acc, label='Accuracy', color='blue')\n",
    "plt.plot(ks, err, label='Error', color='red')\n",
    "plt.legend()\n",
    "plt.show()"
   ]
  }
 ],
 "metadata": {
  "kaggle": {
   "accelerator": "none",
   "dataSources": [
    {
     "datasetId": 17860,
     "sourceId": 23404,
     "sourceType": "datasetVersion"
    }
   ],
   "dockerImageVersionId": 30715,
   "isGpuEnabled": false,
   "isInternetEnabled": false,
   "language": "python",
   "sourceType": "notebook"
  },
  "kernelspec": {
   "display_name": "Python 3",
   "language": "python",
   "name": "python3"
  },
  "language_info": {
   "codemirror_mode": {
    "name": "ipython",
    "version": 3
   },
   "file_extension": ".py",
   "mimetype": "text/x-python",
   "name": "python",
   "nbconvert_exporter": "python",
   "pygments_lexer": "ipython3",
   "version": "3.10.13"
  },
  "papermill": {
   "default_parameters": {},
   "duration": 11.838271,
   "end_time": "2024-06-25T08:42:09.496901",
   "environment_variables": {},
   "exception": null,
   "input_path": "__notebook__.ipynb",
   "output_path": "__notebook__.ipynb",
   "parameters": {},
   "start_time": "2024-06-25T08:41:57.658630",
   "version": "2.5.0"
  }
 },
 "nbformat": 4,
 "nbformat_minor": 5
}
