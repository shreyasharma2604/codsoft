{
 "cells": [
  {
   "cell_type": "code",
   "execution_count": 1,
   "id": "acfcd880",
   "metadata": {
    "_cell_guid": "b1076dfc-b9ad-4769-8c92-a6c4dae69d19",
    "_uuid": "8f2839f25d086af736a60e9eeb907d3b93b6e0e5",
    "execution": {
     "iopub.execute_input": "2024-07-07T13:50:13.592749Z",
     "iopub.status.busy": "2024-07-07T13:50:13.592361Z",
     "iopub.status.idle": "2024-07-07T13:50:14.414284Z",
     "shell.execute_reply": "2024-07-07T13:50:14.413087Z"
    },
    "papermill": {
     "duration": 0.836312,
     "end_time": "2024-07-07T13:50:14.416993",
     "exception": false,
     "start_time": "2024-07-07T13:50:13.580681",
     "status": "completed"
    },
    "tags": []
   },
   "outputs": [
    {
     "name": "stdout",
     "output_type": "stream",
     "text": [
      "/kaggle/input/creditcardfraud/creditcard.csv\n"
     ]
    }
   ],
   "source": [
    "# This Python 3 environment comes with many helpful analytics libraries installed\n",
    "# It is defined by the kaggle/python Docker image: https://github.com/kaggle/docker-python\n",
    "# For example, here's several helpful packages to load\n",
    "\n",
    "import numpy as np # linear algebra\n",
    "import pandas as pd # data processing, CSV file I/O (e.g. pd.read_csv)\n",
    "\n",
    "# Input data files are available in the read-only \"../input/\" directory\n",
    "# For example, running this (by clicking run or pressing Shift+Enter) will list all files under the input directory\n",
    "\n",
    "import os\n",
    "for dirname, _, filenames in os.walk('/kaggle/input'):\n",
    "    for filename in filenames:\n",
    "        print(os.path.join(dirname, filename))\n",
    "\n",
    "# You can write up to 20GB to the current directory (/kaggle/working/) that gets preserved as output when you create a version using \"Save & Run All\" \n",
    "# You can also write temporary files to /kaggle/temp/, but they won't be saved outside of the current session"
   ]
  },
  {
   "cell_type": "code",
   "execution_count": 2,
   "id": "71afa660",
   "metadata": {
    "execution": {
     "iopub.execute_input": "2024-07-07T13:50:14.438206Z",
     "iopub.status.busy": "2024-07-07T13:50:14.437356Z",
     "iopub.status.idle": "2024-07-07T13:50:14.441909Z",
     "shell.execute_reply": "2024-07-07T13:50:14.440909Z"
    },
    "papermill": {
     "duration": 0.017233,
     "end_time": "2024-07-07T13:50:14.444025",
     "exception": false,
     "start_time": "2024-07-07T13:50:14.426792",
     "status": "completed"
    },
    "tags": []
   },
   "outputs": [],
   "source": [
    "import pandas as pd"
   ]
  },
  {
   "cell_type": "code",
   "execution_count": 3,
   "id": "15456a41",
   "metadata": {
    "execution": {
     "iopub.execute_input": "2024-07-07T13:50:14.464797Z",
     "iopub.status.busy": "2024-07-07T13:50:14.464389Z",
     "iopub.status.idle": "2024-07-07T13:50:18.103437Z",
     "shell.execute_reply": "2024-07-07T13:50:18.102567Z"
    },
    "papermill": {
     "duration": 3.652367,
     "end_time": "2024-07-07T13:50:18.105977",
     "exception": false,
     "start_time": "2024-07-07T13:50:14.453610",
     "status": "completed"
    },
    "tags": []
   },
   "outputs": [],
   "source": [
    "data =pd.read_csv('/kaggle/input/creditcardfraud/creditcard.csv')"
   ]
  },
  {
   "cell_type": "code",
   "execution_count": 4,
   "id": "49f2184d",
   "metadata": {
    "execution": {
     "iopub.execute_input": "2024-07-07T13:50:18.126732Z",
     "iopub.status.busy": "2024-07-07T13:50:18.126359Z",
     "iopub.status.idle": "2024-07-07T13:50:18.162264Z",
     "shell.execute_reply": "2024-07-07T13:50:18.161308Z"
    },
    "papermill": {
     "duration": 0.049186,
     "end_time": "2024-07-07T13:50:18.164823",
     "exception": false,
     "start_time": "2024-07-07T13:50:18.115637",
     "status": "completed"
    },
    "tags": []
   },
   "outputs": [
    {
     "data": {
      "text/html": [
       "<div>\n",
       "<style scoped>\n",
       "    .dataframe tbody tr th:only-of-type {\n",
       "        vertical-align: middle;\n",
       "    }\n",
       "\n",
       "    .dataframe tbody tr th {\n",
       "        vertical-align: top;\n",
       "    }\n",
       "\n",
       "    .dataframe thead th {\n",
       "        text-align: right;\n",
       "    }\n",
       "</style>\n",
       "<table border=\"1\" class=\"dataframe\">\n",
       "  <thead>\n",
       "    <tr style=\"text-align: right;\">\n",
       "      <th></th>\n",
       "      <th>Time</th>\n",
       "      <th>V1</th>\n",
       "      <th>V2</th>\n",
       "      <th>V3</th>\n",
       "      <th>V4</th>\n",
       "      <th>V5</th>\n",
       "      <th>V6</th>\n",
       "      <th>V7</th>\n",
       "      <th>V8</th>\n",
       "      <th>V9</th>\n",
       "      <th>...</th>\n",
       "      <th>V21</th>\n",
       "      <th>V22</th>\n",
       "      <th>V23</th>\n",
       "      <th>V24</th>\n",
       "      <th>V25</th>\n",
       "      <th>V26</th>\n",
       "      <th>V27</th>\n",
       "      <th>V28</th>\n",
       "      <th>Amount</th>\n",
       "      <th>Class</th>\n",
       "    </tr>\n",
       "  </thead>\n",
       "  <tbody>\n",
       "    <tr>\n",
       "      <th>0</th>\n",
       "      <td>0.0</td>\n",
       "      <td>-1.359807</td>\n",
       "      <td>-0.072781</td>\n",
       "      <td>2.536347</td>\n",
       "      <td>1.378155</td>\n",
       "      <td>-0.338321</td>\n",
       "      <td>0.462388</td>\n",
       "      <td>0.239599</td>\n",
       "      <td>0.098698</td>\n",
       "      <td>0.363787</td>\n",
       "      <td>...</td>\n",
       "      <td>-0.018307</td>\n",
       "      <td>0.277838</td>\n",
       "      <td>-0.110474</td>\n",
       "      <td>0.066928</td>\n",
       "      <td>0.128539</td>\n",
       "      <td>-0.189115</td>\n",
       "      <td>0.133558</td>\n",
       "      <td>-0.021053</td>\n",
       "      <td>149.62</td>\n",
       "      <td>0</td>\n",
       "    </tr>\n",
       "    <tr>\n",
       "      <th>1</th>\n",
       "      <td>0.0</td>\n",
       "      <td>1.191857</td>\n",
       "      <td>0.266151</td>\n",
       "      <td>0.166480</td>\n",
       "      <td>0.448154</td>\n",
       "      <td>0.060018</td>\n",
       "      <td>-0.082361</td>\n",
       "      <td>-0.078803</td>\n",
       "      <td>0.085102</td>\n",
       "      <td>-0.255425</td>\n",
       "      <td>...</td>\n",
       "      <td>-0.225775</td>\n",
       "      <td>-0.638672</td>\n",
       "      <td>0.101288</td>\n",
       "      <td>-0.339846</td>\n",
       "      <td>0.167170</td>\n",
       "      <td>0.125895</td>\n",
       "      <td>-0.008983</td>\n",
       "      <td>0.014724</td>\n",
       "      <td>2.69</td>\n",
       "      <td>0</td>\n",
       "    </tr>\n",
       "    <tr>\n",
       "      <th>2</th>\n",
       "      <td>1.0</td>\n",
       "      <td>-1.358354</td>\n",
       "      <td>-1.340163</td>\n",
       "      <td>1.773209</td>\n",
       "      <td>0.379780</td>\n",
       "      <td>-0.503198</td>\n",
       "      <td>1.800499</td>\n",
       "      <td>0.791461</td>\n",
       "      <td>0.247676</td>\n",
       "      <td>-1.514654</td>\n",
       "      <td>...</td>\n",
       "      <td>0.247998</td>\n",
       "      <td>0.771679</td>\n",
       "      <td>0.909412</td>\n",
       "      <td>-0.689281</td>\n",
       "      <td>-0.327642</td>\n",
       "      <td>-0.139097</td>\n",
       "      <td>-0.055353</td>\n",
       "      <td>-0.059752</td>\n",
       "      <td>378.66</td>\n",
       "      <td>0</td>\n",
       "    </tr>\n",
       "    <tr>\n",
       "      <th>3</th>\n",
       "      <td>1.0</td>\n",
       "      <td>-0.966272</td>\n",
       "      <td>-0.185226</td>\n",
       "      <td>1.792993</td>\n",
       "      <td>-0.863291</td>\n",
       "      <td>-0.010309</td>\n",
       "      <td>1.247203</td>\n",
       "      <td>0.237609</td>\n",
       "      <td>0.377436</td>\n",
       "      <td>-1.387024</td>\n",
       "      <td>...</td>\n",
       "      <td>-0.108300</td>\n",
       "      <td>0.005274</td>\n",
       "      <td>-0.190321</td>\n",
       "      <td>-1.175575</td>\n",
       "      <td>0.647376</td>\n",
       "      <td>-0.221929</td>\n",
       "      <td>0.062723</td>\n",
       "      <td>0.061458</td>\n",
       "      <td>123.50</td>\n",
       "      <td>0</td>\n",
       "    </tr>\n",
       "    <tr>\n",
       "      <th>4</th>\n",
       "      <td>2.0</td>\n",
       "      <td>-1.158233</td>\n",
       "      <td>0.877737</td>\n",
       "      <td>1.548718</td>\n",
       "      <td>0.403034</td>\n",
       "      <td>-0.407193</td>\n",
       "      <td>0.095921</td>\n",
       "      <td>0.592941</td>\n",
       "      <td>-0.270533</td>\n",
       "      <td>0.817739</td>\n",
       "      <td>...</td>\n",
       "      <td>-0.009431</td>\n",
       "      <td>0.798278</td>\n",
       "      <td>-0.137458</td>\n",
       "      <td>0.141267</td>\n",
       "      <td>-0.206010</td>\n",
       "      <td>0.502292</td>\n",
       "      <td>0.219422</td>\n",
       "      <td>0.215153</td>\n",
       "      <td>69.99</td>\n",
       "      <td>0</td>\n",
       "    </tr>\n",
       "  </tbody>\n",
       "</table>\n",
       "<p>5 rows × 31 columns</p>\n",
       "</div>"
      ],
      "text/plain": [
       "   Time        V1        V2        V3        V4        V5        V6        V7  \\\n",
       "0   0.0 -1.359807 -0.072781  2.536347  1.378155 -0.338321  0.462388  0.239599   \n",
       "1   0.0  1.191857  0.266151  0.166480  0.448154  0.060018 -0.082361 -0.078803   \n",
       "2   1.0 -1.358354 -1.340163  1.773209  0.379780 -0.503198  1.800499  0.791461   \n",
       "3   1.0 -0.966272 -0.185226  1.792993 -0.863291 -0.010309  1.247203  0.237609   \n",
       "4   2.0 -1.158233  0.877737  1.548718  0.403034 -0.407193  0.095921  0.592941   \n",
       "\n",
       "         V8        V9  ...       V21       V22       V23       V24       V25  \\\n",
       "0  0.098698  0.363787  ... -0.018307  0.277838 -0.110474  0.066928  0.128539   \n",
       "1  0.085102 -0.255425  ... -0.225775 -0.638672  0.101288 -0.339846  0.167170   \n",
       "2  0.247676 -1.514654  ...  0.247998  0.771679  0.909412 -0.689281 -0.327642   \n",
       "3  0.377436 -1.387024  ... -0.108300  0.005274 -0.190321 -1.175575  0.647376   \n",
       "4 -0.270533  0.817739  ... -0.009431  0.798278 -0.137458  0.141267 -0.206010   \n",
       "\n",
       "        V26       V27       V28  Amount  Class  \n",
       "0 -0.189115  0.133558 -0.021053  149.62      0  \n",
       "1  0.125895 -0.008983  0.014724    2.69      0  \n",
       "2 -0.139097 -0.055353 -0.059752  378.66      0  \n",
       "3 -0.221929  0.062723  0.061458  123.50      0  \n",
       "4  0.502292  0.219422  0.215153   69.99      0  \n",
       "\n",
       "[5 rows x 31 columns]"
      ]
     },
     "execution_count": 4,
     "metadata": {},
     "output_type": "execute_result"
    }
   ],
   "source": [
    "data.head()"
   ]
  },
  {
   "cell_type": "code",
   "execution_count": 5,
   "id": "d6f3035a",
   "metadata": {
    "execution": {
     "iopub.execute_input": "2024-07-07T13:50:18.187192Z",
     "iopub.status.busy": "2024-07-07T13:50:18.186422Z",
     "iopub.status.idle": "2024-07-07T13:50:18.214113Z",
     "shell.execute_reply": "2024-07-07T13:50:18.213079Z"
    },
    "papermill": {
     "duration": 0.041471,
     "end_time": "2024-07-07T13:50:18.216235",
     "exception": false,
     "start_time": "2024-07-07T13:50:18.174764",
     "status": "completed"
    },
    "tags": []
   },
   "outputs": [
    {
     "data": {
      "text/html": [
       "<div>\n",
       "<style scoped>\n",
       "    .dataframe tbody tr th:only-of-type {\n",
       "        vertical-align: middle;\n",
       "    }\n",
       "\n",
       "    .dataframe tbody tr th {\n",
       "        vertical-align: top;\n",
       "    }\n",
       "\n",
       "    .dataframe thead th {\n",
       "        text-align: right;\n",
       "    }\n",
       "</style>\n",
       "<table border=\"1\" class=\"dataframe\">\n",
       "  <thead>\n",
       "    <tr style=\"text-align: right;\">\n",
       "      <th></th>\n",
       "      <th>Time</th>\n",
       "      <th>V1</th>\n",
       "      <th>V2</th>\n",
       "      <th>V3</th>\n",
       "      <th>V4</th>\n",
       "      <th>V5</th>\n",
       "      <th>V6</th>\n",
       "      <th>V7</th>\n",
       "      <th>V8</th>\n",
       "      <th>V9</th>\n",
       "      <th>V10</th>\n",
       "      <th>V11</th>\n",
       "      <th>V12</th>\n",
       "      <th>V13</th>\n",
       "      <th>V14</th>\n",
       "      <th>V15</th>\n",
       "      <th>V16</th>\n",
       "      <th>V17</th>\n",
       "      <th>V18</th>\n",
       "      <th>V19</th>\n",
       "      <th>V20</th>\n",
       "      <th>V21</th>\n",
       "      <th>V22</th>\n",
       "      <th>V23</th>\n",
       "      <th>V24</th>\n",
       "      <th>V25</th>\n",
       "      <th>V26</th>\n",
       "      <th>V27</th>\n",
       "      <th>V28</th>\n",
       "      <th>Amount</th>\n",
       "      <th>Class</th>\n",
       "    </tr>\n",
       "  </thead>\n",
       "  <tbody>\n",
       "    <tr>\n",
       "      <th>0</th>\n",
       "      <td>0.0</td>\n",
       "      <td>-1.359807</td>\n",
       "      <td>-0.072781</td>\n",
       "      <td>2.536347</td>\n",
       "      <td>1.378155</td>\n",
       "      <td>-0.338321</td>\n",
       "      <td>0.462388</td>\n",
       "      <td>0.239599</td>\n",
       "      <td>0.098698</td>\n",
       "      <td>0.363787</td>\n",
       "      <td>0.090794</td>\n",
       "      <td>-0.551600</td>\n",
       "      <td>-0.617801</td>\n",
       "      <td>-0.991390</td>\n",
       "      <td>-0.311169</td>\n",
       "      <td>1.468177</td>\n",
       "      <td>-0.470401</td>\n",
       "      <td>0.207971</td>\n",
       "      <td>0.025791</td>\n",
       "      <td>0.403993</td>\n",
       "      <td>0.251412</td>\n",
       "      <td>-0.018307</td>\n",
       "      <td>0.277838</td>\n",
       "      <td>-0.110474</td>\n",
       "      <td>0.066928</td>\n",
       "      <td>0.128539</td>\n",
       "      <td>-0.189115</td>\n",
       "      <td>0.133558</td>\n",
       "      <td>-0.021053</td>\n",
       "      <td>149.62</td>\n",
       "      <td>0</td>\n",
       "    </tr>\n",
       "    <tr>\n",
       "      <th>1</th>\n",
       "      <td>0.0</td>\n",
       "      <td>1.191857</td>\n",
       "      <td>0.266151</td>\n",
       "      <td>0.166480</td>\n",
       "      <td>0.448154</td>\n",
       "      <td>0.060018</td>\n",
       "      <td>-0.082361</td>\n",
       "      <td>-0.078803</td>\n",
       "      <td>0.085102</td>\n",
       "      <td>-0.255425</td>\n",
       "      <td>-0.166974</td>\n",
       "      <td>1.612727</td>\n",
       "      <td>1.065235</td>\n",
       "      <td>0.489095</td>\n",
       "      <td>-0.143772</td>\n",
       "      <td>0.635558</td>\n",
       "      <td>0.463917</td>\n",
       "      <td>-0.114805</td>\n",
       "      <td>-0.183361</td>\n",
       "      <td>-0.145783</td>\n",
       "      <td>-0.069083</td>\n",
       "      <td>-0.225775</td>\n",
       "      <td>-0.638672</td>\n",
       "      <td>0.101288</td>\n",
       "      <td>-0.339846</td>\n",
       "      <td>0.167170</td>\n",
       "      <td>0.125895</td>\n",
       "      <td>-0.008983</td>\n",
       "      <td>0.014724</td>\n",
       "      <td>2.69</td>\n",
       "      <td>0</td>\n",
       "    </tr>\n",
       "    <tr>\n",
       "      <th>2</th>\n",
       "      <td>1.0</td>\n",
       "      <td>-1.358354</td>\n",
       "      <td>-1.340163</td>\n",
       "      <td>1.773209</td>\n",
       "      <td>0.379780</td>\n",
       "      <td>-0.503198</td>\n",
       "      <td>1.800499</td>\n",
       "      <td>0.791461</td>\n",
       "      <td>0.247676</td>\n",
       "      <td>-1.514654</td>\n",
       "      <td>0.207643</td>\n",
       "      <td>0.624501</td>\n",
       "      <td>0.066084</td>\n",
       "      <td>0.717293</td>\n",
       "      <td>-0.165946</td>\n",
       "      <td>2.345865</td>\n",
       "      <td>-2.890083</td>\n",
       "      <td>1.109969</td>\n",
       "      <td>-0.121359</td>\n",
       "      <td>-2.261857</td>\n",
       "      <td>0.524980</td>\n",
       "      <td>0.247998</td>\n",
       "      <td>0.771679</td>\n",
       "      <td>0.909412</td>\n",
       "      <td>-0.689281</td>\n",
       "      <td>-0.327642</td>\n",
       "      <td>-0.139097</td>\n",
       "      <td>-0.055353</td>\n",
       "      <td>-0.059752</td>\n",
       "      <td>378.66</td>\n",
       "      <td>0</td>\n",
       "    </tr>\n",
       "    <tr>\n",
       "      <th>3</th>\n",
       "      <td>1.0</td>\n",
       "      <td>-0.966272</td>\n",
       "      <td>-0.185226</td>\n",
       "      <td>1.792993</td>\n",
       "      <td>-0.863291</td>\n",
       "      <td>-0.010309</td>\n",
       "      <td>1.247203</td>\n",
       "      <td>0.237609</td>\n",
       "      <td>0.377436</td>\n",
       "      <td>-1.387024</td>\n",
       "      <td>-0.054952</td>\n",
       "      <td>-0.226487</td>\n",
       "      <td>0.178228</td>\n",
       "      <td>0.507757</td>\n",
       "      <td>-0.287924</td>\n",
       "      <td>-0.631418</td>\n",
       "      <td>-1.059647</td>\n",
       "      <td>-0.684093</td>\n",
       "      <td>1.965775</td>\n",
       "      <td>-1.232622</td>\n",
       "      <td>-0.208038</td>\n",
       "      <td>-0.108300</td>\n",
       "      <td>0.005274</td>\n",
       "      <td>-0.190321</td>\n",
       "      <td>-1.175575</td>\n",
       "      <td>0.647376</td>\n",
       "      <td>-0.221929</td>\n",
       "      <td>0.062723</td>\n",
       "      <td>0.061458</td>\n",
       "      <td>123.50</td>\n",
       "      <td>0</td>\n",
       "    </tr>\n",
       "    <tr>\n",
       "      <th>4</th>\n",
       "      <td>2.0</td>\n",
       "      <td>-1.158233</td>\n",
       "      <td>0.877737</td>\n",
       "      <td>1.548718</td>\n",
       "      <td>0.403034</td>\n",
       "      <td>-0.407193</td>\n",
       "      <td>0.095921</td>\n",
       "      <td>0.592941</td>\n",
       "      <td>-0.270533</td>\n",
       "      <td>0.817739</td>\n",
       "      <td>0.753074</td>\n",
       "      <td>-0.822843</td>\n",
       "      <td>0.538196</td>\n",
       "      <td>1.345852</td>\n",
       "      <td>-1.119670</td>\n",
       "      <td>0.175121</td>\n",
       "      <td>-0.451449</td>\n",
       "      <td>-0.237033</td>\n",
       "      <td>-0.038195</td>\n",
       "      <td>0.803487</td>\n",
       "      <td>0.408542</td>\n",
       "      <td>-0.009431</td>\n",
       "      <td>0.798278</td>\n",
       "      <td>-0.137458</td>\n",
       "      <td>0.141267</td>\n",
       "      <td>-0.206010</td>\n",
       "      <td>0.502292</td>\n",
       "      <td>0.219422</td>\n",
       "      <td>0.215153</td>\n",
       "      <td>69.99</td>\n",
       "      <td>0</td>\n",
       "    </tr>\n",
       "  </tbody>\n",
       "</table>\n",
       "</div>"
      ],
      "text/plain": [
       "   Time        V1        V2        V3        V4        V5        V6        V7  \\\n",
       "0   0.0 -1.359807 -0.072781  2.536347  1.378155 -0.338321  0.462388  0.239599   \n",
       "1   0.0  1.191857  0.266151  0.166480  0.448154  0.060018 -0.082361 -0.078803   \n",
       "2   1.0 -1.358354 -1.340163  1.773209  0.379780 -0.503198  1.800499  0.791461   \n",
       "3   1.0 -0.966272 -0.185226  1.792993 -0.863291 -0.010309  1.247203  0.237609   \n",
       "4   2.0 -1.158233  0.877737  1.548718  0.403034 -0.407193  0.095921  0.592941   \n",
       "\n",
       "         V8        V9       V10       V11       V12       V13       V14  \\\n",
       "0  0.098698  0.363787  0.090794 -0.551600 -0.617801 -0.991390 -0.311169   \n",
       "1  0.085102 -0.255425 -0.166974  1.612727  1.065235  0.489095 -0.143772   \n",
       "2  0.247676 -1.514654  0.207643  0.624501  0.066084  0.717293 -0.165946   \n",
       "3  0.377436 -1.387024 -0.054952 -0.226487  0.178228  0.507757 -0.287924   \n",
       "4 -0.270533  0.817739  0.753074 -0.822843  0.538196  1.345852 -1.119670   \n",
       "\n",
       "        V15       V16       V17       V18       V19       V20       V21  \\\n",
       "0  1.468177 -0.470401  0.207971  0.025791  0.403993  0.251412 -0.018307   \n",
       "1  0.635558  0.463917 -0.114805 -0.183361 -0.145783 -0.069083 -0.225775   \n",
       "2  2.345865 -2.890083  1.109969 -0.121359 -2.261857  0.524980  0.247998   \n",
       "3 -0.631418 -1.059647 -0.684093  1.965775 -1.232622 -0.208038 -0.108300   \n",
       "4  0.175121 -0.451449 -0.237033 -0.038195  0.803487  0.408542 -0.009431   \n",
       "\n",
       "        V22       V23       V24       V25       V26       V27       V28  \\\n",
       "0  0.277838 -0.110474  0.066928  0.128539 -0.189115  0.133558 -0.021053   \n",
       "1 -0.638672  0.101288 -0.339846  0.167170  0.125895 -0.008983  0.014724   \n",
       "2  0.771679  0.909412 -0.689281 -0.327642 -0.139097 -0.055353 -0.059752   \n",
       "3  0.005274 -0.190321 -1.175575  0.647376 -0.221929  0.062723  0.061458   \n",
       "4  0.798278 -0.137458  0.141267 -0.206010  0.502292  0.219422  0.215153   \n",
       "\n",
       "   Amount  Class  \n",
       "0  149.62      0  \n",
       "1    2.69      0  \n",
       "2  378.66      0  \n",
       "3  123.50      0  \n",
       "4   69.99      0  "
      ]
     },
     "execution_count": 5,
     "metadata": {},
     "output_type": "execute_result"
    }
   ],
   "source": [
    "pd.options.display.max_columns = None\n",
    "data.head()"
   ]
  },
  {
   "cell_type": "code",
   "execution_count": 6,
   "id": "b046a29b",
   "metadata": {
    "execution": {
     "iopub.execute_input": "2024-07-07T13:50:18.238994Z",
     "iopub.status.busy": "2024-07-07T13:50:18.238124Z",
     "iopub.status.idle": "2024-07-07T13:50:18.265539Z",
     "shell.execute_reply": "2024-07-07T13:50:18.264588Z"
    },
    "papermill": {
     "duration": 0.041149,
     "end_time": "2024-07-07T13:50:18.267756",
     "exception": false,
     "start_time": "2024-07-07T13:50:18.226607",
     "status": "completed"
    },
    "tags": []
   },
   "outputs": [
    {
     "data": {
      "text/html": [
       "<div>\n",
       "<style scoped>\n",
       "    .dataframe tbody tr th:only-of-type {\n",
       "        vertical-align: middle;\n",
       "    }\n",
       "\n",
       "    .dataframe tbody tr th {\n",
       "        vertical-align: top;\n",
       "    }\n",
       "\n",
       "    .dataframe thead th {\n",
       "        text-align: right;\n",
       "    }\n",
       "</style>\n",
       "<table border=\"1\" class=\"dataframe\">\n",
       "  <thead>\n",
       "    <tr style=\"text-align: right;\">\n",
       "      <th></th>\n",
       "      <th>Time</th>\n",
       "      <th>V1</th>\n",
       "      <th>V2</th>\n",
       "      <th>V3</th>\n",
       "      <th>V4</th>\n",
       "      <th>V5</th>\n",
       "      <th>V6</th>\n",
       "      <th>V7</th>\n",
       "      <th>V8</th>\n",
       "      <th>V9</th>\n",
       "      <th>V10</th>\n",
       "      <th>V11</th>\n",
       "      <th>V12</th>\n",
       "      <th>V13</th>\n",
       "      <th>V14</th>\n",
       "      <th>V15</th>\n",
       "      <th>V16</th>\n",
       "      <th>V17</th>\n",
       "      <th>V18</th>\n",
       "      <th>V19</th>\n",
       "      <th>V20</th>\n",
       "      <th>V21</th>\n",
       "      <th>V22</th>\n",
       "      <th>V23</th>\n",
       "      <th>V24</th>\n",
       "      <th>V25</th>\n",
       "      <th>V26</th>\n",
       "      <th>V27</th>\n",
       "      <th>V28</th>\n",
       "      <th>Amount</th>\n",
       "      <th>Class</th>\n",
       "    </tr>\n",
       "  </thead>\n",
       "  <tbody>\n",
       "    <tr>\n",
       "      <th>284802</th>\n",
       "      <td>172786.0</td>\n",
       "      <td>-11.881118</td>\n",
       "      <td>10.071785</td>\n",
       "      <td>-9.834783</td>\n",
       "      <td>-2.066656</td>\n",
       "      <td>-5.364473</td>\n",
       "      <td>-2.606837</td>\n",
       "      <td>-4.918215</td>\n",
       "      <td>7.305334</td>\n",
       "      <td>1.914428</td>\n",
       "      <td>4.356170</td>\n",
       "      <td>-1.593105</td>\n",
       "      <td>2.711941</td>\n",
       "      <td>-0.689256</td>\n",
       "      <td>4.626942</td>\n",
       "      <td>-0.924459</td>\n",
       "      <td>1.107641</td>\n",
       "      <td>1.991691</td>\n",
       "      <td>0.510632</td>\n",
       "      <td>-0.682920</td>\n",
       "      <td>1.475829</td>\n",
       "      <td>0.213454</td>\n",
       "      <td>0.111864</td>\n",
       "      <td>1.014480</td>\n",
       "      <td>-0.509348</td>\n",
       "      <td>1.436807</td>\n",
       "      <td>0.250034</td>\n",
       "      <td>0.943651</td>\n",
       "      <td>0.823731</td>\n",
       "      <td>0.77</td>\n",
       "      <td>0</td>\n",
       "    </tr>\n",
       "    <tr>\n",
       "      <th>284803</th>\n",
       "      <td>172787.0</td>\n",
       "      <td>-0.732789</td>\n",
       "      <td>-0.055080</td>\n",
       "      <td>2.035030</td>\n",
       "      <td>-0.738589</td>\n",
       "      <td>0.868229</td>\n",
       "      <td>1.058415</td>\n",
       "      <td>0.024330</td>\n",
       "      <td>0.294869</td>\n",
       "      <td>0.584800</td>\n",
       "      <td>-0.975926</td>\n",
       "      <td>-0.150189</td>\n",
       "      <td>0.915802</td>\n",
       "      <td>1.214756</td>\n",
       "      <td>-0.675143</td>\n",
       "      <td>1.164931</td>\n",
       "      <td>-0.711757</td>\n",
       "      <td>-0.025693</td>\n",
       "      <td>-1.221179</td>\n",
       "      <td>-1.545556</td>\n",
       "      <td>0.059616</td>\n",
       "      <td>0.214205</td>\n",
       "      <td>0.924384</td>\n",
       "      <td>0.012463</td>\n",
       "      <td>-1.016226</td>\n",
       "      <td>-0.606624</td>\n",
       "      <td>-0.395255</td>\n",
       "      <td>0.068472</td>\n",
       "      <td>-0.053527</td>\n",
       "      <td>24.79</td>\n",
       "      <td>0</td>\n",
       "    </tr>\n",
       "    <tr>\n",
       "      <th>284804</th>\n",
       "      <td>172788.0</td>\n",
       "      <td>1.919565</td>\n",
       "      <td>-0.301254</td>\n",
       "      <td>-3.249640</td>\n",
       "      <td>-0.557828</td>\n",
       "      <td>2.630515</td>\n",
       "      <td>3.031260</td>\n",
       "      <td>-0.296827</td>\n",
       "      <td>0.708417</td>\n",
       "      <td>0.432454</td>\n",
       "      <td>-0.484782</td>\n",
       "      <td>0.411614</td>\n",
       "      <td>0.063119</td>\n",
       "      <td>-0.183699</td>\n",
       "      <td>-0.510602</td>\n",
       "      <td>1.329284</td>\n",
       "      <td>0.140716</td>\n",
       "      <td>0.313502</td>\n",
       "      <td>0.395652</td>\n",
       "      <td>-0.577252</td>\n",
       "      <td>0.001396</td>\n",
       "      <td>0.232045</td>\n",
       "      <td>0.578229</td>\n",
       "      <td>-0.037501</td>\n",
       "      <td>0.640134</td>\n",
       "      <td>0.265745</td>\n",
       "      <td>-0.087371</td>\n",
       "      <td>0.004455</td>\n",
       "      <td>-0.026561</td>\n",
       "      <td>67.88</td>\n",
       "      <td>0</td>\n",
       "    </tr>\n",
       "    <tr>\n",
       "      <th>284805</th>\n",
       "      <td>172788.0</td>\n",
       "      <td>-0.240440</td>\n",
       "      <td>0.530483</td>\n",
       "      <td>0.702510</td>\n",
       "      <td>0.689799</td>\n",
       "      <td>-0.377961</td>\n",
       "      <td>0.623708</td>\n",
       "      <td>-0.686180</td>\n",
       "      <td>0.679145</td>\n",
       "      <td>0.392087</td>\n",
       "      <td>-0.399126</td>\n",
       "      <td>-1.933849</td>\n",
       "      <td>-0.962886</td>\n",
       "      <td>-1.042082</td>\n",
       "      <td>0.449624</td>\n",
       "      <td>1.962563</td>\n",
       "      <td>-0.608577</td>\n",
       "      <td>0.509928</td>\n",
       "      <td>1.113981</td>\n",
       "      <td>2.897849</td>\n",
       "      <td>0.127434</td>\n",
       "      <td>0.265245</td>\n",
       "      <td>0.800049</td>\n",
       "      <td>-0.163298</td>\n",
       "      <td>0.123205</td>\n",
       "      <td>-0.569159</td>\n",
       "      <td>0.546668</td>\n",
       "      <td>0.108821</td>\n",
       "      <td>0.104533</td>\n",
       "      <td>10.00</td>\n",
       "      <td>0</td>\n",
       "    </tr>\n",
       "    <tr>\n",
       "      <th>284806</th>\n",
       "      <td>172792.0</td>\n",
       "      <td>-0.533413</td>\n",
       "      <td>-0.189733</td>\n",
       "      <td>0.703337</td>\n",
       "      <td>-0.506271</td>\n",
       "      <td>-0.012546</td>\n",
       "      <td>-0.649617</td>\n",
       "      <td>1.577006</td>\n",
       "      <td>-0.414650</td>\n",
       "      <td>0.486180</td>\n",
       "      <td>-0.915427</td>\n",
       "      <td>-1.040458</td>\n",
       "      <td>-0.031513</td>\n",
       "      <td>-0.188093</td>\n",
       "      <td>-0.084316</td>\n",
       "      <td>0.041333</td>\n",
       "      <td>-0.302620</td>\n",
       "      <td>-0.660377</td>\n",
       "      <td>0.167430</td>\n",
       "      <td>-0.256117</td>\n",
       "      <td>0.382948</td>\n",
       "      <td>0.261057</td>\n",
       "      <td>0.643078</td>\n",
       "      <td>0.376777</td>\n",
       "      <td>0.008797</td>\n",
       "      <td>-0.473649</td>\n",
       "      <td>-0.818267</td>\n",
       "      <td>-0.002415</td>\n",
       "      <td>0.013649</td>\n",
       "      <td>217.00</td>\n",
       "      <td>0</td>\n",
       "    </tr>\n",
       "  </tbody>\n",
       "</table>\n",
       "</div>"
      ],
      "text/plain": [
       "            Time         V1         V2        V3        V4        V5  \\\n",
       "284802  172786.0 -11.881118  10.071785 -9.834783 -2.066656 -5.364473   \n",
       "284803  172787.0  -0.732789  -0.055080  2.035030 -0.738589  0.868229   \n",
       "284804  172788.0   1.919565  -0.301254 -3.249640 -0.557828  2.630515   \n",
       "284805  172788.0  -0.240440   0.530483  0.702510  0.689799 -0.377961   \n",
       "284806  172792.0  -0.533413  -0.189733  0.703337 -0.506271 -0.012546   \n",
       "\n",
       "              V6        V7        V8        V9       V10       V11       V12  \\\n",
       "284802 -2.606837 -4.918215  7.305334  1.914428  4.356170 -1.593105  2.711941   \n",
       "284803  1.058415  0.024330  0.294869  0.584800 -0.975926 -0.150189  0.915802   \n",
       "284804  3.031260 -0.296827  0.708417  0.432454 -0.484782  0.411614  0.063119   \n",
       "284805  0.623708 -0.686180  0.679145  0.392087 -0.399126 -1.933849 -0.962886   \n",
       "284806 -0.649617  1.577006 -0.414650  0.486180 -0.915427 -1.040458 -0.031513   \n",
       "\n",
       "             V13       V14       V15       V16       V17       V18       V19  \\\n",
       "284802 -0.689256  4.626942 -0.924459  1.107641  1.991691  0.510632 -0.682920   \n",
       "284803  1.214756 -0.675143  1.164931 -0.711757 -0.025693 -1.221179 -1.545556   \n",
       "284804 -0.183699 -0.510602  1.329284  0.140716  0.313502  0.395652 -0.577252   \n",
       "284805 -1.042082  0.449624  1.962563 -0.608577  0.509928  1.113981  2.897849   \n",
       "284806 -0.188093 -0.084316  0.041333 -0.302620 -0.660377  0.167430 -0.256117   \n",
       "\n",
       "             V20       V21       V22       V23       V24       V25       V26  \\\n",
       "284802  1.475829  0.213454  0.111864  1.014480 -0.509348  1.436807  0.250034   \n",
       "284803  0.059616  0.214205  0.924384  0.012463 -1.016226 -0.606624 -0.395255   \n",
       "284804  0.001396  0.232045  0.578229 -0.037501  0.640134  0.265745 -0.087371   \n",
       "284805  0.127434  0.265245  0.800049 -0.163298  0.123205 -0.569159  0.546668   \n",
       "284806  0.382948  0.261057  0.643078  0.376777  0.008797 -0.473649 -0.818267   \n",
       "\n",
       "             V27       V28  Amount  Class  \n",
       "284802  0.943651  0.823731    0.77      0  \n",
       "284803  0.068472 -0.053527   24.79      0  \n",
       "284804  0.004455 -0.026561   67.88      0  \n",
       "284805  0.108821  0.104533   10.00      0  \n",
       "284806 -0.002415  0.013649  217.00      0  "
      ]
     },
     "execution_count": 6,
     "metadata": {},
     "output_type": "execute_result"
    }
   ],
   "source": [
    "data.tail()"
   ]
  },
  {
   "cell_type": "code",
   "execution_count": 7,
   "id": "fa876e65",
   "metadata": {
    "execution": {
     "iopub.execute_input": "2024-07-07T13:50:18.290804Z",
     "iopub.status.busy": "2024-07-07T13:50:18.290065Z",
     "iopub.status.idle": "2024-07-07T13:50:18.296271Z",
     "shell.execute_reply": "2024-07-07T13:50:18.295308Z"
    },
    "papermill": {
     "duration": 0.019827,
     "end_time": "2024-07-07T13:50:18.298236",
     "exception": false,
     "start_time": "2024-07-07T13:50:18.278409",
     "status": "completed"
    },
    "tags": []
   },
   "outputs": [
    {
     "data": {
      "text/plain": [
       "(284807, 31)"
      ]
     },
     "execution_count": 7,
     "metadata": {},
     "output_type": "execute_result"
    }
   ],
   "source": [
    "data.shape"
   ]
  },
  {
   "cell_type": "code",
   "execution_count": 8,
   "id": "482119a0",
   "metadata": {
    "execution": {
     "iopub.execute_input": "2024-07-07T13:50:18.321706Z",
     "iopub.status.busy": "2024-07-07T13:50:18.320810Z",
     "iopub.status.idle": "2024-07-07T13:50:18.357175Z",
     "shell.execute_reply": "2024-07-07T13:50:18.356190Z"
    },
    "papermill": {
     "duration": 0.050947,
     "end_time": "2024-07-07T13:50:18.359906",
     "exception": false,
     "start_time": "2024-07-07T13:50:18.308959",
     "status": "completed"
    },
    "tags": []
   },
   "outputs": [
    {
     "name": "stdout",
     "output_type": "stream",
     "text": [
      "<class 'pandas.core.frame.DataFrame'>\n",
      "RangeIndex: 284807 entries, 0 to 284806\n",
      "Data columns (total 31 columns):\n",
      " #   Column  Non-Null Count   Dtype  \n",
      "---  ------  --------------   -----  \n",
      " 0   Time    284807 non-null  float64\n",
      " 1   V1      284807 non-null  float64\n",
      " 2   V2      284807 non-null  float64\n",
      " 3   V3      284807 non-null  float64\n",
      " 4   V4      284807 non-null  float64\n",
      " 5   V5      284807 non-null  float64\n",
      " 6   V6      284807 non-null  float64\n",
      " 7   V7      284807 non-null  float64\n",
      " 8   V8      284807 non-null  float64\n",
      " 9   V9      284807 non-null  float64\n",
      " 10  V10     284807 non-null  float64\n",
      " 11  V11     284807 non-null  float64\n",
      " 12  V12     284807 non-null  float64\n",
      " 13  V13     284807 non-null  float64\n",
      " 14  V14     284807 non-null  float64\n",
      " 15  V15     284807 non-null  float64\n",
      " 16  V16     284807 non-null  float64\n",
      " 17  V17     284807 non-null  float64\n",
      " 18  V18     284807 non-null  float64\n",
      " 19  V19     284807 non-null  float64\n",
      " 20  V20     284807 non-null  float64\n",
      " 21  V21     284807 non-null  float64\n",
      " 22  V22     284807 non-null  float64\n",
      " 23  V23     284807 non-null  float64\n",
      " 24  V24     284807 non-null  float64\n",
      " 25  V25     284807 non-null  float64\n",
      " 26  V26     284807 non-null  float64\n",
      " 27  V27     284807 non-null  float64\n",
      " 28  V28     284807 non-null  float64\n",
      " 29  Amount  284807 non-null  float64\n",
      " 30  Class   284807 non-null  int64  \n",
      "dtypes: float64(30), int64(1)\n",
      "memory usage: 67.4 MB\n"
     ]
    }
   ],
   "source": [
    "data.info()"
   ]
  },
  {
   "cell_type": "code",
   "execution_count": 9,
   "id": "b32dda43",
   "metadata": {
    "execution": {
     "iopub.execute_input": "2024-07-07T13:50:18.384069Z",
     "iopub.status.busy": "2024-07-07T13:50:18.383291Z",
     "iopub.status.idle": "2024-07-07T13:50:18.403715Z",
     "shell.execute_reply": "2024-07-07T13:50:18.402723Z"
    },
    "papermill": {
     "duration": 0.034791,
     "end_time": "2024-07-07T13:50:18.405987",
     "exception": false,
     "start_time": "2024-07-07T13:50:18.371196",
     "status": "completed"
    },
    "tags": []
   },
   "outputs": [
    {
     "data": {
      "text/plain": [
       "Time      0\n",
       "V1        0\n",
       "V2        0\n",
       "V3        0\n",
       "V4        0\n",
       "V5        0\n",
       "V6        0\n",
       "V7        0\n",
       "V8        0\n",
       "V9        0\n",
       "V10       0\n",
       "V11       0\n",
       "V12       0\n",
       "V13       0\n",
       "V14       0\n",
       "V15       0\n",
       "V16       0\n",
       "V17       0\n",
       "V18       0\n",
       "V19       0\n",
       "V20       0\n",
       "V21       0\n",
       "V22       0\n",
       "V23       0\n",
       "V24       0\n",
       "V25       0\n",
       "V26       0\n",
       "V27       0\n",
       "V28       0\n",
       "Amount    0\n",
       "Class     0\n",
       "dtype: int64"
      ]
     },
     "execution_count": 9,
     "metadata": {},
     "output_type": "execute_result"
    }
   ],
   "source": [
    "data.isnull().sum()"
   ]
  },
  {
   "cell_type": "code",
   "execution_count": 10,
   "id": "285f9608",
   "metadata": {
    "execution": {
     "iopub.execute_input": "2024-07-07T13:50:18.429557Z",
     "iopub.status.busy": "2024-07-07T13:50:18.429164Z",
     "iopub.status.idle": "2024-07-07T13:50:19.451609Z",
     "shell.execute_reply": "2024-07-07T13:50:19.450623Z"
    },
    "papermill": {
     "duration": 1.037155,
     "end_time": "2024-07-07T13:50:19.454192",
     "exception": false,
     "start_time": "2024-07-07T13:50:18.417037",
     "status": "completed"
    },
    "tags": []
   },
   "outputs": [],
   "source": [
    "from sklearn.preprocessing import StandardScaler"
   ]
  },
  {
   "cell_type": "code",
   "execution_count": 11,
   "id": "376c546b",
   "metadata": {
    "execution": {
     "iopub.execute_input": "2024-07-07T13:50:19.480925Z",
     "iopub.status.busy": "2024-07-07T13:50:19.479837Z",
     "iopub.status.idle": "2024-07-07T13:50:19.516462Z",
     "shell.execute_reply": "2024-07-07T13:50:19.515314Z"
    },
    "papermill": {
     "duration": 0.052122,
     "end_time": "2024-07-07T13:50:19.519028",
     "exception": false,
     "start_time": "2024-07-07T13:50:19.466906",
     "status": "completed"
    },
    "tags": []
   },
   "outputs": [
    {
     "data": {
      "text/html": [
       "<div>\n",
       "<style scoped>\n",
       "    .dataframe tbody tr th:only-of-type {\n",
       "        vertical-align: middle;\n",
       "    }\n",
       "\n",
       "    .dataframe tbody tr th {\n",
       "        vertical-align: top;\n",
       "    }\n",
       "\n",
       "    .dataframe thead th {\n",
       "        text-align: right;\n",
       "    }\n",
       "</style>\n",
       "<table border=\"1\" class=\"dataframe\">\n",
       "  <thead>\n",
       "    <tr style=\"text-align: right;\">\n",
       "      <th></th>\n",
       "      <th>Time</th>\n",
       "      <th>V1</th>\n",
       "      <th>V2</th>\n",
       "      <th>V3</th>\n",
       "      <th>V4</th>\n",
       "      <th>V5</th>\n",
       "      <th>V6</th>\n",
       "      <th>V7</th>\n",
       "      <th>V8</th>\n",
       "      <th>V9</th>\n",
       "      <th>V10</th>\n",
       "      <th>V11</th>\n",
       "      <th>V12</th>\n",
       "      <th>V13</th>\n",
       "      <th>V14</th>\n",
       "      <th>V15</th>\n",
       "      <th>V16</th>\n",
       "      <th>V17</th>\n",
       "      <th>V18</th>\n",
       "      <th>V19</th>\n",
       "      <th>V20</th>\n",
       "      <th>V21</th>\n",
       "      <th>V22</th>\n",
       "      <th>V23</th>\n",
       "      <th>V24</th>\n",
       "      <th>V25</th>\n",
       "      <th>V26</th>\n",
       "      <th>V27</th>\n",
       "      <th>V28</th>\n",
       "      <th>Amount</th>\n",
       "      <th>Class</th>\n",
       "    </tr>\n",
       "  </thead>\n",
       "  <tbody>\n",
       "    <tr>\n",
       "      <th>0</th>\n",
       "      <td>0.0</td>\n",
       "      <td>-1.359807</td>\n",
       "      <td>-0.072781</td>\n",
       "      <td>2.536347</td>\n",
       "      <td>1.378155</td>\n",
       "      <td>-0.338321</td>\n",
       "      <td>0.462388</td>\n",
       "      <td>0.239599</td>\n",
       "      <td>0.098698</td>\n",
       "      <td>0.363787</td>\n",
       "      <td>0.090794</td>\n",
       "      <td>-0.551600</td>\n",
       "      <td>-0.617801</td>\n",
       "      <td>-0.991390</td>\n",
       "      <td>-0.311169</td>\n",
       "      <td>1.468177</td>\n",
       "      <td>-0.470401</td>\n",
       "      <td>0.207971</td>\n",
       "      <td>0.025791</td>\n",
       "      <td>0.403993</td>\n",
       "      <td>0.251412</td>\n",
       "      <td>-0.018307</td>\n",
       "      <td>0.277838</td>\n",
       "      <td>-0.110474</td>\n",
       "      <td>0.066928</td>\n",
       "      <td>0.128539</td>\n",
       "      <td>-0.189115</td>\n",
       "      <td>0.133558</td>\n",
       "      <td>-0.021053</td>\n",
       "      <td>0.244964</td>\n",
       "      <td>0</td>\n",
       "    </tr>\n",
       "    <tr>\n",
       "      <th>1</th>\n",
       "      <td>0.0</td>\n",
       "      <td>1.191857</td>\n",
       "      <td>0.266151</td>\n",
       "      <td>0.166480</td>\n",
       "      <td>0.448154</td>\n",
       "      <td>0.060018</td>\n",
       "      <td>-0.082361</td>\n",
       "      <td>-0.078803</td>\n",
       "      <td>0.085102</td>\n",
       "      <td>-0.255425</td>\n",
       "      <td>-0.166974</td>\n",
       "      <td>1.612727</td>\n",
       "      <td>1.065235</td>\n",
       "      <td>0.489095</td>\n",
       "      <td>-0.143772</td>\n",
       "      <td>0.635558</td>\n",
       "      <td>0.463917</td>\n",
       "      <td>-0.114805</td>\n",
       "      <td>-0.183361</td>\n",
       "      <td>-0.145783</td>\n",
       "      <td>-0.069083</td>\n",
       "      <td>-0.225775</td>\n",
       "      <td>-0.638672</td>\n",
       "      <td>0.101288</td>\n",
       "      <td>-0.339846</td>\n",
       "      <td>0.167170</td>\n",
       "      <td>0.125895</td>\n",
       "      <td>-0.008983</td>\n",
       "      <td>0.014724</td>\n",
       "      <td>-0.342475</td>\n",
       "      <td>0</td>\n",
       "    </tr>\n",
       "    <tr>\n",
       "      <th>2</th>\n",
       "      <td>1.0</td>\n",
       "      <td>-1.358354</td>\n",
       "      <td>-1.340163</td>\n",
       "      <td>1.773209</td>\n",
       "      <td>0.379780</td>\n",
       "      <td>-0.503198</td>\n",
       "      <td>1.800499</td>\n",
       "      <td>0.791461</td>\n",
       "      <td>0.247676</td>\n",
       "      <td>-1.514654</td>\n",
       "      <td>0.207643</td>\n",
       "      <td>0.624501</td>\n",
       "      <td>0.066084</td>\n",
       "      <td>0.717293</td>\n",
       "      <td>-0.165946</td>\n",
       "      <td>2.345865</td>\n",
       "      <td>-2.890083</td>\n",
       "      <td>1.109969</td>\n",
       "      <td>-0.121359</td>\n",
       "      <td>-2.261857</td>\n",
       "      <td>0.524980</td>\n",
       "      <td>0.247998</td>\n",
       "      <td>0.771679</td>\n",
       "      <td>0.909412</td>\n",
       "      <td>-0.689281</td>\n",
       "      <td>-0.327642</td>\n",
       "      <td>-0.139097</td>\n",
       "      <td>-0.055353</td>\n",
       "      <td>-0.059752</td>\n",
       "      <td>1.160686</td>\n",
       "      <td>0</td>\n",
       "    </tr>\n",
       "    <tr>\n",
       "      <th>3</th>\n",
       "      <td>1.0</td>\n",
       "      <td>-0.966272</td>\n",
       "      <td>-0.185226</td>\n",
       "      <td>1.792993</td>\n",
       "      <td>-0.863291</td>\n",
       "      <td>-0.010309</td>\n",
       "      <td>1.247203</td>\n",
       "      <td>0.237609</td>\n",
       "      <td>0.377436</td>\n",
       "      <td>-1.387024</td>\n",
       "      <td>-0.054952</td>\n",
       "      <td>-0.226487</td>\n",
       "      <td>0.178228</td>\n",
       "      <td>0.507757</td>\n",
       "      <td>-0.287924</td>\n",
       "      <td>-0.631418</td>\n",
       "      <td>-1.059647</td>\n",
       "      <td>-0.684093</td>\n",
       "      <td>1.965775</td>\n",
       "      <td>-1.232622</td>\n",
       "      <td>-0.208038</td>\n",
       "      <td>-0.108300</td>\n",
       "      <td>0.005274</td>\n",
       "      <td>-0.190321</td>\n",
       "      <td>-1.175575</td>\n",
       "      <td>0.647376</td>\n",
       "      <td>-0.221929</td>\n",
       "      <td>0.062723</td>\n",
       "      <td>0.061458</td>\n",
       "      <td>0.140534</td>\n",
       "      <td>0</td>\n",
       "    </tr>\n",
       "    <tr>\n",
       "      <th>4</th>\n",
       "      <td>2.0</td>\n",
       "      <td>-1.158233</td>\n",
       "      <td>0.877737</td>\n",
       "      <td>1.548718</td>\n",
       "      <td>0.403034</td>\n",
       "      <td>-0.407193</td>\n",
       "      <td>0.095921</td>\n",
       "      <td>0.592941</td>\n",
       "      <td>-0.270533</td>\n",
       "      <td>0.817739</td>\n",
       "      <td>0.753074</td>\n",
       "      <td>-0.822843</td>\n",
       "      <td>0.538196</td>\n",
       "      <td>1.345852</td>\n",
       "      <td>-1.119670</td>\n",
       "      <td>0.175121</td>\n",
       "      <td>-0.451449</td>\n",
       "      <td>-0.237033</td>\n",
       "      <td>-0.038195</td>\n",
       "      <td>0.803487</td>\n",
       "      <td>0.408542</td>\n",
       "      <td>-0.009431</td>\n",
       "      <td>0.798278</td>\n",
       "      <td>-0.137458</td>\n",
       "      <td>0.141267</td>\n",
       "      <td>-0.206010</td>\n",
       "      <td>0.502292</td>\n",
       "      <td>0.219422</td>\n",
       "      <td>0.215153</td>\n",
       "      <td>-0.073403</td>\n",
       "      <td>0</td>\n",
       "    </tr>\n",
       "  </tbody>\n",
       "</table>\n",
       "</div>"
      ],
      "text/plain": [
       "   Time        V1        V2        V3        V4        V5        V6        V7  \\\n",
       "0   0.0 -1.359807 -0.072781  2.536347  1.378155 -0.338321  0.462388  0.239599   \n",
       "1   0.0  1.191857  0.266151  0.166480  0.448154  0.060018 -0.082361 -0.078803   \n",
       "2   1.0 -1.358354 -1.340163  1.773209  0.379780 -0.503198  1.800499  0.791461   \n",
       "3   1.0 -0.966272 -0.185226  1.792993 -0.863291 -0.010309  1.247203  0.237609   \n",
       "4   2.0 -1.158233  0.877737  1.548718  0.403034 -0.407193  0.095921  0.592941   \n",
       "\n",
       "         V8        V9       V10       V11       V12       V13       V14  \\\n",
       "0  0.098698  0.363787  0.090794 -0.551600 -0.617801 -0.991390 -0.311169   \n",
       "1  0.085102 -0.255425 -0.166974  1.612727  1.065235  0.489095 -0.143772   \n",
       "2  0.247676 -1.514654  0.207643  0.624501  0.066084  0.717293 -0.165946   \n",
       "3  0.377436 -1.387024 -0.054952 -0.226487  0.178228  0.507757 -0.287924   \n",
       "4 -0.270533  0.817739  0.753074 -0.822843  0.538196  1.345852 -1.119670   \n",
       "\n",
       "        V15       V16       V17       V18       V19       V20       V21  \\\n",
       "0  1.468177 -0.470401  0.207971  0.025791  0.403993  0.251412 -0.018307   \n",
       "1  0.635558  0.463917 -0.114805 -0.183361 -0.145783 -0.069083 -0.225775   \n",
       "2  2.345865 -2.890083  1.109969 -0.121359 -2.261857  0.524980  0.247998   \n",
       "3 -0.631418 -1.059647 -0.684093  1.965775 -1.232622 -0.208038 -0.108300   \n",
       "4  0.175121 -0.451449 -0.237033 -0.038195  0.803487  0.408542 -0.009431   \n",
       "\n",
       "        V22       V23       V24       V25       V26       V27       V28  \\\n",
       "0  0.277838 -0.110474  0.066928  0.128539 -0.189115  0.133558 -0.021053   \n",
       "1 -0.638672  0.101288 -0.339846  0.167170  0.125895 -0.008983  0.014724   \n",
       "2  0.771679  0.909412 -0.689281 -0.327642 -0.139097 -0.055353 -0.059752   \n",
       "3  0.005274 -0.190321 -1.175575  0.647376 -0.221929  0.062723  0.061458   \n",
       "4  0.798278 -0.137458  0.141267 -0.206010  0.502292  0.219422  0.215153   \n",
       "\n",
       "     Amount  Class  \n",
       "0  0.244964      0  \n",
       "1 -0.342475      0  \n",
       "2  1.160686      0  \n",
       "3  0.140534      0  \n",
       "4 -0.073403      0  "
      ]
     },
     "execution_count": 11,
     "metadata": {},
     "output_type": "execute_result"
    }
   ],
   "source": [
    "sc = StandardScaler()\n",
    "data['Amount'] = sc.fit_transform(pd.DataFrame(data['Amount']))\n",
    "data.head()"
   ]
  },
  {
   "cell_type": "code",
   "execution_count": 12,
   "id": "cdf12d62",
   "metadata": {
    "execution": {
     "iopub.execute_input": "2024-07-07T13:50:19.547172Z",
     "iopub.status.busy": "2024-07-07T13:50:19.546270Z",
     "iopub.status.idle": "2024-07-07T13:50:19.603884Z",
     "shell.execute_reply": "2024-07-07T13:50:19.602911Z"
    },
    "papermill": {
     "duration": 0.072726,
     "end_time": "2024-07-07T13:50:19.606112",
     "exception": false,
     "start_time": "2024-07-07T13:50:19.533386",
     "status": "completed"
    },
    "tags": []
   },
   "outputs": [
    {
     "data": {
      "text/html": [
       "<div>\n",
       "<style scoped>\n",
       "    .dataframe tbody tr th:only-of-type {\n",
       "        vertical-align: middle;\n",
       "    }\n",
       "\n",
       "    .dataframe tbody tr th {\n",
       "        vertical-align: top;\n",
       "    }\n",
       "\n",
       "    .dataframe thead th {\n",
       "        text-align: right;\n",
       "    }\n",
       "</style>\n",
       "<table border=\"1\" class=\"dataframe\">\n",
       "  <thead>\n",
       "    <tr style=\"text-align: right;\">\n",
       "      <th></th>\n",
       "      <th>V1</th>\n",
       "      <th>V2</th>\n",
       "      <th>V3</th>\n",
       "      <th>V4</th>\n",
       "      <th>V5</th>\n",
       "      <th>V6</th>\n",
       "      <th>V7</th>\n",
       "      <th>V8</th>\n",
       "      <th>V9</th>\n",
       "      <th>V10</th>\n",
       "      <th>V11</th>\n",
       "      <th>V12</th>\n",
       "      <th>V13</th>\n",
       "      <th>V14</th>\n",
       "      <th>V15</th>\n",
       "      <th>V16</th>\n",
       "      <th>V17</th>\n",
       "      <th>V18</th>\n",
       "      <th>V19</th>\n",
       "      <th>V20</th>\n",
       "      <th>V21</th>\n",
       "      <th>V22</th>\n",
       "      <th>V23</th>\n",
       "      <th>V24</th>\n",
       "      <th>V25</th>\n",
       "      <th>V26</th>\n",
       "      <th>V27</th>\n",
       "      <th>V28</th>\n",
       "      <th>Amount</th>\n",
       "      <th>Class</th>\n",
       "    </tr>\n",
       "  </thead>\n",
       "  <tbody>\n",
       "    <tr>\n",
       "      <th>0</th>\n",
       "      <td>-1.359807</td>\n",
       "      <td>-0.072781</td>\n",
       "      <td>2.536347</td>\n",
       "      <td>1.378155</td>\n",
       "      <td>-0.338321</td>\n",
       "      <td>0.462388</td>\n",
       "      <td>0.239599</td>\n",
       "      <td>0.098698</td>\n",
       "      <td>0.363787</td>\n",
       "      <td>0.090794</td>\n",
       "      <td>-0.551600</td>\n",
       "      <td>-0.617801</td>\n",
       "      <td>-0.991390</td>\n",
       "      <td>-0.311169</td>\n",
       "      <td>1.468177</td>\n",
       "      <td>-0.470401</td>\n",
       "      <td>0.207971</td>\n",
       "      <td>0.025791</td>\n",
       "      <td>0.403993</td>\n",
       "      <td>0.251412</td>\n",
       "      <td>-0.018307</td>\n",
       "      <td>0.277838</td>\n",
       "      <td>-0.110474</td>\n",
       "      <td>0.066928</td>\n",
       "      <td>0.128539</td>\n",
       "      <td>-0.189115</td>\n",
       "      <td>0.133558</td>\n",
       "      <td>-0.021053</td>\n",
       "      <td>0.244964</td>\n",
       "      <td>0</td>\n",
       "    </tr>\n",
       "    <tr>\n",
       "      <th>1</th>\n",
       "      <td>1.191857</td>\n",
       "      <td>0.266151</td>\n",
       "      <td>0.166480</td>\n",
       "      <td>0.448154</td>\n",
       "      <td>0.060018</td>\n",
       "      <td>-0.082361</td>\n",
       "      <td>-0.078803</td>\n",
       "      <td>0.085102</td>\n",
       "      <td>-0.255425</td>\n",
       "      <td>-0.166974</td>\n",
       "      <td>1.612727</td>\n",
       "      <td>1.065235</td>\n",
       "      <td>0.489095</td>\n",
       "      <td>-0.143772</td>\n",
       "      <td>0.635558</td>\n",
       "      <td>0.463917</td>\n",
       "      <td>-0.114805</td>\n",
       "      <td>-0.183361</td>\n",
       "      <td>-0.145783</td>\n",
       "      <td>-0.069083</td>\n",
       "      <td>-0.225775</td>\n",
       "      <td>-0.638672</td>\n",
       "      <td>0.101288</td>\n",
       "      <td>-0.339846</td>\n",
       "      <td>0.167170</td>\n",
       "      <td>0.125895</td>\n",
       "      <td>-0.008983</td>\n",
       "      <td>0.014724</td>\n",
       "      <td>-0.342475</td>\n",
       "      <td>0</td>\n",
       "    </tr>\n",
       "    <tr>\n",
       "      <th>2</th>\n",
       "      <td>-1.358354</td>\n",
       "      <td>-1.340163</td>\n",
       "      <td>1.773209</td>\n",
       "      <td>0.379780</td>\n",
       "      <td>-0.503198</td>\n",
       "      <td>1.800499</td>\n",
       "      <td>0.791461</td>\n",
       "      <td>0.247676</td>\n",
       "      <td>-1.514654</td>\n",
       "      <td>0.207643</td>\n",
       "      <td>0.624501</td>\n",
       "      <td>0.066084</td>\n",
       "      <td>0.717293</td>\n",
       "      <td>-0.165946</td>\n",
       "      <td>2.345865</td>\n",
       "      <td>-2.890083</td>\n",
       "      <td>1.109969</td>\n",
       "      <td>-0.121359</td>\n",
       "      <td>-2.261857</td>\n",
       "      <td>0.524980</td>\n",
       "      <td>0.247998</td>\n",
       "      <td>0.771679</td>\n",
       "      <td>0.909412</td>\n",
       "      <td>-0.689281</td>\n",
       "      <td>-0.327642</td>\n",
       "      <td>-0.139097</td>\n",
       "      <td>-0.055353</td>\n",
       "      <td>-0.059752</td>\n",
       "      <td>1.160686</td>\n",
       "      <td>0</td>\n",
       "    </tr>\n",
       "    <tr>\n",
       "      <th>3</th>\n",
       "      <td>-0.966272</td>\n",
       "      <td>-0.185226</td>\n",
       "      <td>1.792993</td>\n",
       "      <td>-0.863291</td>\n",
       "      <td>-0.010309</td>\n",
       "      <td>1.247203</td>\n",
       "      <td>0.237609</td>\n",
       "      <td>0.377436</td>\n",
       "      <td>-1.387024</td>\n",
       "      <td>-0.054952</td>\n",
       "      <td>-0.226487</td>\n",
       "      <td>0.178228</td>\n",
       "      <td>0.507757</td>\n",
       "      <td>-0.287924</td>\n",
       "      <td>-0.631418</td>\n",
       "      <td>-1.059647</td>\n",
       "      <td>-0.684093</td>\n",
       "      <td>1.965775</td>\n",
       "      <td>-1.232622</td>\n",
       "      <td>-0.208038</td>\n",
       "      <td>-0.108300</td>\n",
       "      <td>0.005274</td>\n",
       "      <td>-0.190321</td>\n",
       "      <td>-1.175575</td>\n",
       "      <td>0.647376</td>\n",
       "      <td>-0.221929</td>\n",
       "      <td>0.062723</td>\n",
       "      <td>0.061458</td>\n",
       "      <td>0.140534</td>\n",
       "      <td>0</td>\n",
       "    </tr>\n",
       "    <tr>\n",
       "      <th>4</th>\n",
       "      <td>-1.158233</td>\n",
       "      <td>0.877737</td>\n",
       "      <td>1.548718</td>\n",
       "      <td>0.403034</td>\n",
       "      <td>-0.407193</td>\n",
       "      <td>0.095921</td>\n",
       "      <td>0.592941</td>\n",
       "      <td>-0.270533</td>\n",
       "      <td>0.817739</td>\n",
       "      <td>0.753074</td>\n",
       "      <td>-0.822843</td>\n",
       "      <td>0.538196</td>\n",
       "      <td>1.345852</td>\n",
       "      <td>-1.119670</td>\n",
       "      <td>0.175121</td>\n",
       "      <td>-0.451449</td>\n",
       "      <td>-0.237033</td>\n",
       "      <td>-0.038195</td>\n",
       "      <td>0.803487</td>\n",
       "      <td>0.408542</td>\n",
       "      <td>-0.009431</td>\n",
       "      <td>0.798278</td>\n",
       "      <td>-0.137458</td>\n",
       "      <td>0.141267</td>\n",
       "      <td>-0.206010</td>\n",
       "      <td>0.502292</td>\n",
       "      <td>0.219422</td>\n",
       "      <td>0.215153</td>\n",
       "      <td>-0.073403</td>\n",
       "      <td>0</td>\n",
       "    </tr>\n",
       "  </tbody>\n",
       "</table>\n",
       "</div>"
      ],
      "text/plain": [
       "         V1        V2        V3        V4        V5        V6        V7  \\\n",
       "0 -1.359807 -0.072781  2.536347  1.378155 -0.338321  0.462388  0.239599   \n",
       "1  1.191857  0.266151  0.166480  0.448154  0.060018 -0.082361 -0.078803   \n",
       "2 -1.358354 -1.340163  1.773209  0.379780 -0.503198  1.800499  0.791461   \n",
       "3 -0.966272 -0.185226  1.792993 -0.863291 -0.010309  1.247203  0.237609   \n",
       "4 -1.158233  0.877737  1.548718  0.403034 -0.407193  0.095921  0.592941   \n",
       "\n",
       "         V8        V9       V10       V11       V12       V13       V14  \\\n",
       "0  0.098698  0.363787  0.090794 -0.551600 -0.617801 -0.991390 -0.311169   \n",
       "1  0.085102 -0.255425 -0.166974  1.612727  1.065235  0.489095 -0.143772   \n",
       "2  0.247676 -1.514654  0.207643  0.624501  0.066084  0.717293 -0.165946   \n",
       "3  0.377436 -1.387024 -0.054952 -0.226487  0.178228  0.507757 -0.287924   \n",
       "4 -0.270533  0.817739  0.753074 -0.822843  0.538196  1.345852 -1.119670   \n",
       "\n",
       "        V15       V16       V17       V18       V19       V20       V21  \\\n",
       "0  1.468177 -0.470401  0.207971  0.025791  0.403993  0.251412 -0.018307   \n",
       "1  0.635558  0.463917 -0.114805 -0.183361 -0.145783 -0.069083 -0.225775   \n",
       "2  2.345865 -2.890083  1.109969 -0.121359 -2.261857  0.524980  0.247998   \n",
       "3 -0.631418 -1.059647 -0.684093  1.965775 -1.232622 -0.208038 -0.108300   \n",
       "4  0.175121 -0.451449 -0.237033 -0.038195  0.803487  0.408542 -0.009431   \n",
       "\n",
       "        V22       V23       V24       V25       V26       V27       V28  \\\n",
       "0  0.277838 -0.110474  0.066928  0.128539 -0.189115  0.133558 -0.021053   \n",
       "1 -0.638672  0.101288 -0.339846  0.167170  0.125895 -0.008983  0.014724   \n",
       "2  0.771679  0.909412 -0.689281 -0.327642 -0.139097 -0.055353 -0.059752   \n",
       "3  0.005274 -0.190321 -1.175575  0.647376 -0.221929  0.062723  0.061458   \n",
       "4  0.798278 -0.137458  0.141267 -0.206010  0.502292  0.219422  0.215153   \n",
       "\n",
       "     Amount  Class  \n",
       "0  0.244964      0  \n",
       "1 -0.342475      0  \n",
       "2  1.160686      0  \n",
       "3  0.140534      0  \n",
       "4 -0.073403      0  "
      ]
     },
     "execution_count": 12,
     "metadata": {},
     "output_type": "execute_result"
    }
   ],
   "source": [
    "data = data.drop(['Time'], axis =1)\n",
    "data.head()"
   ]
  },
  {
   "cell_type": "code",
   "execution_count": 13,
   "id": "254ff9f8",
   "metadata": {
    "execution": {
     "iopub.execute_input": "2024-07-07T13:50:19.632660Z",
     "iopub.status.busy": "2024-07-07T13:50:19.632276Z",
     "iopub.status.idle": "2024-07-07T13:50:20.512001Z",
     "shell.execute_reply": "2024-07-07T13:50:20.511008Z"
    },
    "papermill": {
     "duration": 0.8964,
     "end_time": "2024-07-07T13:50:20.514421",
     "exception": false,
     "start_time": "2024-07-07T13:50:19.618021",
     "status": "completed"
    },
    "tags": []
   },
   "outputs": [
    {
     "data": {
      "text/plain": [
       "True"
      ]
     },
     "execution_count": 13,
     "metadata": {},
     "output_type": "execute_result"
    }
   ],
   "source": [
    "data.duplicated().any()"
   ]
  },
  {
   "cell_type": "code",
   "execution_count": 14,
   "id": "4e03cd4b",
   "metadata": {
    "execution": {
     "iopub.execute_input": "2024-07-07T13:50:20.540217Z",
     "iopub.status.busy": "2024-07-07T13:50:20.539830Z",
     "iopub.status.idle": "2024-07-07T13:50:20.546273Z",
     "shell.execute_reply": "2024-07-07T13:50:20.545326Z"
    },
    "papermill": {
     "duration": 0.021795,
     "end_time": "2024-07-07T13:50:20.548301",
     "exception": false,
     "start_time": "2024-07-07T13:50:20.526506",
     "status": "completed"
    },
    "tags": []
   },
   "outputs": [
    {
     "data": {
      "text/plain": [
       "(284807, 30)"
      ]
     },
     "execution_count": 14,
     "metadata": {},
     "output_type": "execute_result"
    }
   ],
   "source": [
    "data.shape"
   ]
  },
  {
   "cell_type": "code",
   "execution_count": 15,
   "id": "81c076c6",
   "metadata": {
    "execution": {
     "iopub.execute_input": "2024-07-07T13:50:20.574055Z",
     "iopub.status.busy": "2024-07-07T13:50:20.573365Z",
     "iopub.status.idle": "2024-07-07T13:50:20.586489Z",
     "shell.execute_reply": "2024-07-07T13:50:20.585235Z"
    },
    "papermill": {
     "duration": 0.030188,
     "end_time": "2024-07-07T13:50:20.590470",
     "exception": false,
     "start_time": "2024-07-07T13:50:20.560282",
     "status": "completed"
    },
    "tags": []
   },
   "outputs": [
    {
     "data": {
      "text/plain": [
       "Class\n",
       "0    284315\n",
       "1       492\n",
       "Name: count, dtype: int64"
      ]
     },
     "execution_count": 15,
     "metadata": {},
     "output_type": "execute_result"
    }
   ],
   "source": [
    "data['Class'].value_counts()"
   ]
  },
  {
   "cell_type": "code",
   "execution_count": 16,
   "id": "3eaed2da",
   "metadata": {
    "execution": {
     "iopub.execute_input": "2024-07-07T13:50:20.624304Z",
     "iopub.status.busy": "2024-07-07T13:50:20.623397Z",
     "iopub.status.idle": "2024-07-07T13:50:21.000827Z",
     "shell.execute_reply": "2024-07-07T13:50:20.999687Z"
    },
    "papermill": {
     "duration": 0.397914,
     "end_time": "2024-07-07T13:50:21.003871",
     "exception": false,
     "start_time": "2024-07-07T13:50:20.605957",
     "status": "completed"
    },
    "tags": []
   },
   "outputs": [],
   "source": [
    "import seaborn as sns\n",
    "import matplotlib.pyplot as plt\n",
    "plt.style.use('ggplot')"
   ]
  },
  {
   "cell_type": "code",
   "execution_count": 17,
   "id": "4405553b",
   "metadata": {
    "execution": {
     "iopub.execute_input": "2024-07-07T13:50:21.037751Z",
     "iopub.status.busy": "2024-07-07T13:50:21.037373Z",
     "iopub.status.idle": "2024-07-07T13:50:21.228417Z",
     "shell.execute_reply": "2024-07-07T13:50:21.227409Z"
    },
    "papermill": {
     "duration": 0.211371,
     "end_time": "2024-07-07T13:50:21.230654",
     "exception": false,
     "start_time": "2024-07-07T13:50:21.019283",
     "status": "completed"
    },
    "tags": []
   },
   "outputs": [
    {
     "data": {
      "image/png": "[encoded data removed]",
      "text/plain": [
       "<Figure size 640x480 with 1 Axes>"
      ]
     },
     "metadata": {},
     "output_type": "display_data"
    }
   ],
   "source": [
    "sns.countplot(data['Class'])\n",
    "plt.show()"
   ]
  },
  {
   "cell_type": "code",
   "execution_count": 18,
   "id": "9d891b12",
   "metadata": {
    "execution": {
     "iopub.execute_input": "2024-07-07T13:50:21.257207Z",
     "iopub.status.busy": "2024-07-07T13:50:21.256832Z",
     "iopub.status.idle": "2024-07-07T13:50:21.285958Z",
     "shell.execute_reply": "2024-07-07T13:50:21.284963Z"
    },
    "papermill": {
     "duration": 0.04557,
     "end_time": "2024-07-07T13:50:21.288426",
     "exception": false,
     "start_time": "2024-07-07T13:50:21.242856",
     "status": "completed"
    },
    "tags": []
   },
   "outputs": [],
   "source": [
    "X = data.drop('Class', axis = 1)\n",
    "y=data['Class']"
   ]
  },
  {
   "cell_type": "code",
   "execution_count": 19,
   "id": "f9034af1",
   "metadata": {
    "execution": {
     "iopub.execute_input": "2024-07-07T13:50:21.315120Z",
     "iopub.status.busy": "2024-07-07T13:50:21.314445Z",
     "iopub.status.idle": "2024-07-07T13:50:21.412176Z",
     "shell.execute_reply": "2024-07-07T13:50:21.411135Z"
    },
    "papermill": {
     "duration": 0.113938,
     "end_time": "2024-07-07T13:50:21.414742",
     "exception": false,
     "start_time": "2024-07-07T13:50:21.300804",
     "status": "completed"
    },
    "tags": []
   },
   "outputs": [],
   "source": [
    "from sklearn.model_selection import train_test_split"
   ]
  },
  {
   "cell_type": "code",
   "execution_count": 20,
   "id": "056e2efa",
   "metadata": {
    "execution": {
     "iopub.execute_input": "2024-07-07T13:50:21.443682Z",
     "iopub.status.busy": "2024-07-07T13:50:21.443181Z",
     "iopub.status.idle": "2024-07-07T13:50:21.542026Z",
     "shell.execute_reply": "2024-07-07T13:50:21.541075Z"
    },
    "papermill": {
     "duration": 0.117188,
     "end_time": "2024-07-07T13:50:21.544535",
     "exception": false,
     "start_time": "2024-07-07T13:50:21.427347",
     "status": "completed"
    },
    "tags": []
   },
   "outputs": [],
   "source": [
    "X_train, X_test, y_train, y_test = train_test_split(X, y, test_size = 0.2, random_state = 42)"
   ]
  },
  {
   "cell_type": "code",
   "execution_count": 21,
   "id": "2c244e02",
   "metadata": {
    "execution": {
     "iopub.execute_input": "2024-07-07T13:50:21.570826Z",
     "iopub.status.busy": "2024-07-07T13:50:21.570463Z",
     "iopub.status.idle": "2024-07-07T13:50:21.575117Z",
     "shell.execute_reply": "2024-07-07T13:50:21.574070Z"
    },
    "papermill": {
     "duration": 0.0204,
     "end_time": "2024-07-07T13:50:21.577362",
     "exception": false,
     "start_time": "2024-07-07T13:50:21.556962",
     "status": "completed"
    },
    "tags": []
   },
   "outputs": [],
   "source": [
    "import numpy as np"
   ]
  },
  {
   "cell_type": "code",
   "execution_count": 22,
   "id": "18333290",
   "metadata": {
    "execution": {
     "iopub.execute_input": "2024-07-07T13:50:21.603760Z",
     "iopub.status.busy": "2024-07-07T13:50:21.603374Z",
     "iopub.status.idle": "2024-07-07T13:50:21.839357Z",
     "shell.execute_reply": "2024-07-07T13:50:21.838375Z"
    },
    "papermill": {
     "duration": 0.252281,
     "end_time": "2024-07-07T13:50:21.841932",
     "exception": false,
     "start_time": "2024-07-07T13:50:21.589651",
     "status": "completed"
    },
    "tags": []
   },
   "outputs": [],
   "source": [
    "from sklearn.metrics import accuracy_score, precision_score, recall_score, f1_score, confusion_matrix, classification_report\n",
    "from sklearn.linear_model import LogisticRegression, SGDClassifier\n",
    "from sklearn.tree import DecisionTreeClassifier\n",
    "from sklearn.ensemble import RandomForestClassifier, AdaBoostClassifier, GradientBoostingClassifier, BaggingClassifier, ExtraTreesClassifier, VotingClassifier\n",
    "from sklearn.svm import SVC\n",
    "from sklearn.neighbors import KNeighborsClassifier\n",
    "from sklearn.naive_bayes import GaussianNB"
   ]
  },
  {
   "cell_type": "code",
   "execution_count": 23,
   "id": "7af4bc79",
   "metadata": {
    "execution": {
     "iopub.execute_input": "2024-07-07T13:50:21.869096Z",
     "iopub.status.busy": "2024-07-07T13:50:21.868179Z",
     "iopub.status.idle": "2024-07-07T13:50:21.918358Z",
     "shell.execute_reply": "2024-07-07T13:50:21.917288Z"
    },
    "papermill": {
     "duration": 0.066168,
     "end_time": "2024-07-07T13:50:21.920680",
     "exception": false,
     "start_time": "2024-07-07T13:50:21.854512",
     "status": "completed"
    },
    "tags": []
   },
   "outputs": [
    {
     "data": {
      "text/plain": [
       "(284315, 30)"
      ]
     },
     "execution_count": 23,
     "metadata": {},
     "output_type": "execute_result"
    }
   ],
   "source": [
    "normal = data[data['Class']==0]\n",
    "fraud = data[data['Class']==1]\n",
    "normal.shape"
   ]
  },
  {
   "cell_type": "code",
   "execution_count": 24,
   "id": "dbfa60d8",
   "metadata": {
    "execution": {
     "iopub.execute_input": "2024-07-07T13:50:22.005125Z",
     "iopub.status.busy": "2024-07-07T13:50:22.004423Z",
     "iopub.status.idle": "2024-07-07T13:50:22.010539Z",
     "shell.execute_reply": "2024-07-07T13:50:22.009597Z"
    },
    "papermill": {
     "duration": 0.079731,
     "end_time": "2024-07-07T13:50:22.012878",
     "exception": false,
     "start_time": "2024-07-07T13:50:21.933147",
     "status": "completed"
    },
    "tags": []
   },
   "outputs": [
    {
     "data": {
      "text/plain": [
       "(492, 30)"
      ]
     },
     "execution_count": 24,
     "metadata": {},
     "output_type": "execute_result"
    }
   ],
   "source": [
    "fraud.shape"
   ]
  },
  {
   "cell_type": "code",
   "execution_count": 25,
   "id": "046d0135",
   "metadata": {
    "execution": {
     "iopub.execute_input": "2024-07-07T13:50:22.040578Z",
     "iopub.status.busy": "2024-07-07T13:50:22.040187Z",
     "iopub.status.idle": "2024-07-07T13:50:22.055368Z",
     "shell.execute_reply": "2024-07-07T13:50:22.054401Z"
    },
    "papermill": {
     "duration": 0.031846,
     "end_time": "2024-07-07T13:50:22.057448",
     "exception": false,
     "start_time": "2024-07-07T13:50:22.025602",
     "status": "completed"
    },
    "tags": []
   },
   "outputs": [
    {
     "data": {
      "text/plain": [
       "(473, 30)"
      ]
     },
     "execution_count": 25,
     "metadata": {},
     "output_type": "execute_result"
    }
   ],
   "source": [
    "normal_sample = normal.sample(n=473)\n",
    "normal_sample.shape"
   ]
  },
  {
   "cell_type": "code",
   "execution_count": 26,
   "id": "d5af44ae",
   "metadata": {
    "execution": {
     "iopub.execute_input": "2024-07-07T13:50:22.084847Z",
     "iopub.status.busy": "2024-07-07T13:50:22.084190Z",
     "iopub.status.idle": "2024-07-07T13:50:22.112708Z",
     "shell.execute_reply": "2024-07-07T13:50:22.111664Z"
    },
    "papermill": {
     "duration": 0.044525,
     "end_time": "2024-07-07T13:50:22.114835",
     "exception": false,
     "start_time": "2024-07-07T13:50:22.070310",
     "status": "completed"
    },
    "tags": []
   },
   "outputs": [
    {
     "data": {
      "text/html": [
       "<div>\n",
       "<style scoped>\n",
       "    .dataframe tbody tr th:only-of-type {\n",
       "        vertical-align: middle;\n",
       "    }\n",
       "\n",
       "    .dataframe tbody tr th {\n",
       "        vertical-align: top;\n",
       "    }\n",
       "\n",
       "    .dataframe thead th {\n",
       "        text-align: right;\n",
       "    }\n",
       "</style>\n",
       "<table border=\"1\" class=\"dataframe\">\n",
       "  <thead>\n",
       "    <tr style=\"text-align: right;\">\n",
       "      <th></th>\n",
       "      <th>V1</th>\n",
       "      <th>V2</th>\n",
       "      <th>V3</th>\n",
       "      <th>V4</th>\n",
       "      <th>V5</th>\n",
       "      <th>V6</th>\n",
       "      <th>V7</th>\n",
       "      <th>V8</th>\n",
       "      <th>V9</th>\n",
       "      <th>V10</th>\n",
       "      <th>V11</th>\n",
       "      <th>V12</th>\n",
       "      <th>V13</th>\n",
       "      <th>V14</th>\n",
       "      <th>V15</th>\n",
       "      <th>V16</th>\n",
       "      <th>V17</th>\n",
       "      <th>V18</th>\n",
       "      <th>V19</th>\n",
       "      <th>V20</th>\n",
       "      <th>V21</th>\n",
       "      <th>V22</th>\n",
       "      <th>V23</th>\n",
       "      <th>V24</th>\n",
       "      <th>V25</th>\n",
       "      <th>V26</th>\n",
       "      <th>V27</th>\n",
       "      <th>V28</th>\n",
       "      <th>Amount</th>\n",
       "      <th>Class</th>\n",
       "    </tr>\n",
       "  </thead>\n",
       "  <tbody>\n",
       "    <tr>\n",
       "      <th>0</th>\n",
       "      <td>-1.133678</td>\n",
       "      <td>0.960852</td>\n",
       "      <td>1.330910</td>\n",
       "      <td>1.245578</td>\n",
       "      <td>-0.077379</td>\n",
       "      <td>-0.423020</td>\n",
       "      <td>0.549408</td>\n",
       "      <td>0.041761</td>\n",
       "      <td>0.247998</td>\n",
       "      <td>0.419834</td>\n",
       "      <td>-0.310583</td>\n",
       "      <td>-0.154918</td>\n",
       "      <td>-1.232711</td>\n",
       "      <td>0.070051</td>\n",
       "      <td>0.138857</td>\n",
       "      <td>-1.234312</td>\n",
       "      <td>0.717176</td>\n",
       "      <td>-0.802021</td>\n",
       "      <td>0.215385</td>\n",
       "      <td>-0.025783</td>\n",
       "      <td>-0.042938</td>\n",
       "      <td>0.319397</td>\n",
       "      <td>0.154302</td>\n",
       "      <td>0.596431</td>\n",
       "      <td>-0.241022</td>\n",
       "      <td>-0.341098</td>\n",
       "      <td>0.304003</td>\n",
       "      <td>0.317503</td>\n",
       "      <td>-0.295937</td>\n",
       "      <td>0</td>\n",
       "    </tr>\n",
       "    <tr>\n",
       "      <th>1</th>\n",
       "      <td>-1.433297</td>\n",
       "      <td>0.219037</td>\n",
       "      <td>1.010637</td>\n",
       "      <td>-2.476311</td>\n",
       "      <td>-0.290051</td>\n",
       "      <td>0.154651</td>\n",
       "      <td>0.004841</td>\n",
       "      <td>0.450745</td>\n",
       "      <td>-1.088429</td>\n",
       "      <td>-0.452021</td>\n",
       "      <td>-1.511327</td>\n",
       "      <td>-0.431728</td>\n",
       "      <td>1.241021</td>\n",
       "      <td>-0.588381</td>\n",
       "      <td>-0.379432</td>\n",
       "      <td>1.754809</td>\n",
       "      <td>-0.270806</td>\n",
       "      <td>-1.253100</td>\n",
       "      <td>0.306255</td>\n",
       "      <td>0.178573</td>\n",
       "      <td>-0.086501</td>\n",
       "      <td>-0.442823</td>\n",
       "      <td>-0.309138</td>\n",
       "      <td>0.089717</td>\n",
       "      <td>0.582386</td>\n",
       "      <td>-0.435400</td>\n",
       "      <td>0.089831</td>\n",
       "      <td>-0.043476</td>\n",
       "      <td>0.010596</td>\n",
       "      <td>0</td>\n",
       "    </tr>\n",
       "    <tr>\n",
       "      <th>2</th>\n",
       "      <td>1.115032</td>\n",
       "      <td>-0.020143</td>\n",
       "      <td>0.444135</td>\n",
       "      <td>0.425863</td>\n",
       "      <td>-0.180436</td>\n",
       "      <td>0.243305</td>\n",
       "      <td>-0.281176</td>\n",
       "      <td>0.296178</td>\n",
       "      <td>-0.015363</td>\n",
       "      <td>0.051371</td>\n",
       "      <td>1.701126</td>\n",
       "      <td>0.501168</td>\n",
       "      <td>-1.184592</td>\n",
       "      <td>0.768682</td>\n",
       "      <td>0.989561</td>\n",
       "      <td>-0.026341</td>\n",
       "      <td>-0.031716</td>\n",
       "      <td>-0.782994</td>\n",
       "      <td>-0.546798</td>\n",
       "      <td>-0.219803</td>\n",
       "      <td>-0.161045</td>\n",
       "      <td>-0.516599</td>\n",
       "      <td>0.194629</td>\n",
       "      <td>-0.329460</td>\n",
       "      <td>-0.009498</td>\n",
       "      <td>0.140230</td>\n",
       "      <td>-0.010039</td>\n",
       "      <td>0.000360</td>\n",
       "      <td>-0.317287</td>\n",
       "      <td>0</td>\n",
       "    </tr>\n",
       "    <tr>\n",
       "      <th>3</th>\n",
       "      <td>-0.202574</td>\n",
       "      <td>0.769192</td>\n",
       "      <td>0.673984</td>\n",
       "      <td>0.581816</td>\n",
       "      <td>0.612166</td>\n",
       "      <td>1.332990</td>\n",
       "      <td>0.536602</td>\n",
       "      <td>0.311209</td>\n",
       "      <td>-0.074940</td>\n",
       "      <td>-0.108381</td>\n",
       "      <td>-0.500781</td>\n",
       "      <td>-0.048748</td>\n",
       "      <td>-0.823380</td>\n",
       "      <td>0.206333</td>\n",
       "      <td>-0.498983</td>\n",
       "      <td>0.046347</td>\n",
       "      <td>-0.623327</td>\n",
       "      <td>0.624035</td>\n",
       "      <td>1.505029</td>\n",
       "      <td>-0.061958</td>\n",
       "      <td>-0.285500</td>\n",
       "      <td>-0.792589</td>\n",
       "      <td>0.072869</td>\n",
       "      <td>-0.454663</td>\n",
       "      <td>-0.787590</td>\n",
       "      <td>-0.965435</td>\n",
       "      <td>0.136234</td>\n",
       "      <td>0.183179</td>\n",
       "      <td>-0.113344</td>\n",
       "      <td>0</td>\n",
       "    </tr>\n",
       "    <tr>\n",
       "      <th>4</th>\n",
       "      <td>1.713539</td>\n",
       "      <td>0.211588</td>\n",
       "      <td>-0.616591</td>\n",
       "      <td>3.675128</td>\n",
       "      <td>0.421280</td>\n",
       "      <td>0.460982</td>\n",
       "      <td>0.118945</td>\n",
       "      <td>0.030522</td>\n",
       "      <td>-1.133704</td>\n",
       "      <td>1.541786</td>\n",
       "      <td>0.261721</td>\n",
       "      <td>0.727560</td>\n",
       "      <td>0.682044</td>\n",
       "      <td>0.199358</td>\n",
       "      <td>-1.409137</td>\n",
       "      <td>1.120365</td>\n",
       "      <td>-1.178274</td>\n",
       "      <td>0.080849</td>\n",
       "      <td>-1.222646</td>\n",
       "      <td>-0.047063</td>\n",
       "      <td>0.120524</td>\n",
       "      <td>0.204315</td>\n",
       "      <td>0.054054</td>\n",
       "      <td>-0.480522</td>\n",
       "      <td>-0.103266</td>\n",
       "      <td>-0.062018</td>\n",
       "      <td>-0.037882</td>\n",
       "      <td>-0.040450</td>\n",
       "      <td>0.034585</td>\n",
       "      <td>0</td>\n",
       "    </tr>\n",
       "  </tbody>\n",
       "</table>\n",
       "</div>"
      ],
      "text/plain": [
       "         V1        V2        V3        V4        V5        V6        V7  \\\n",
       "0 -1.133678  0.960852  1.330910  1.245578 -0.077379 -0.423020  0.549408   \n",
       "1 -1.433297  0.219037  1.010637 -2.476311 -0.290051  0.154651  0.004841   \n",
       "2  1.115032 -0.020143  0.444135  0.425863 -0.180436  0.243305 -0.281176   \n",
       "3 -0.202574  0.769192  0.673984  0.581816  0.612166  1.332990  0.536602   \n",
       "4  1.713539  0.211588 -0.616591  3.675128  0.421280  0.460982  0.118945   \n",
       "\n",
       "         V8        V9       V10       V11       V12       V13       V14  \\\n",
       "0  0.041761  0.247998  0.419834 -0.310583 -0.154918 -1.232711  0.070051   \n",
       "1  0.450745 -1.088429 -0.452021 -1.511327 -0.431728  1.241021 -0.588381   \n",
       "2  0.296178 -0.015363  0.051371  1.701126  0.501168 -1.184592  0.768682   \n",
       "3  0.311209 -0.074940 -0.108381 -0.500781 -0.048748 -0.823380  0.206333   \n",
       "4  0.030522 -1.133704  1.541786  0.261721  0.727560  0.682044  0.199358   \n",
       "\n",
       "        V15       V16       V17       V18       V19       V20       V21  \\\n",
       "0  0.138857 -1.234312  0.717176 -0.802021  0.215385 -0.025783 -0.042938   \n",
       "1 -0.379432  1.754809 -0.270806 -1.253100  0.306255  0.178573 -0.086501   \n",
       "2  0.989561 -0.026341 -0.031716 -0.782994 -0.546798 -0.219803 -0.161045   \n",
       "3 -0.498983  0.046347 -0.623327  0.624035  1.505029 -0.061958 -0.285500   \n",
       "4 -1.409137  1.120365 -1.178274  0.080849 -1.222646 -0.047063  0.120524   \n",
       "\n",
       "        V22       V23       V24       V25       V26       V27       V28  \\\n",
       "0  0.319397  0.154302  0.596431 -0.241022 -0.341098  0.304003  0.317503   \n",
       "1 -0.442823 -0.309138  0.089717  0.582386 -0.435400  0.089831 -0.043476   \n",
       "2 -0.516599  0.194629 -0.329460 -0.009498  0.140230 -0.010039  0.000360   \n",
       "3 -0.792589  0.072869 -0.454663 -0.787590 -0.965435  0.136234  0.183179   \n",
       "4  0.204315  0.054054 -0.480522 -0.103266 -0.062018 -0.037882 -0.040450   \n",
       "\n",
       "     Amount  Class  \n",
       "0 -0.295937      0  \n",
       "1  0.010596      0  \n",
       "2 -0.317287      0  \n",
       "3 -0.113344      0  \n",
       "4  0.034585      0  "
      ]
     },
     "execution_count": 26,
     "metadata": {},
     "output_type": "execute_result"
    }
   ],
   "source": [
    "new_data = pd.concat([normal_sample,fraud], ignore_index=True)\n",
    "new_data.head()\n"
   ]
  },
  {
   "cell_type": "code",
   "execution_count": 27,
   "id": "98e878ac",
   "metadata": {
    "execution": {
     "iopub.execute_input": "2024-07-07T13:50:22.142823Z",
     "iopub.status.busy": "2024-07-07T13:50:22.142463Z",
     "iopub.status.idle": "2024-07-07T13:50:22.150401Z",
     "shell.execute_reply": "2024-07-07T13:50:22.149392Z"
    },
    "papermill": {
     "duration": 0.024303,
     "end_time": "2024-07-07T13:50:22.152529",
     "exception": false,
     "start_time": "2024-07-07T13:50:22.128226",
     "status": "completed"
    },
    "tags": []
   },
   "outputs": [
    {
     "data": {
      "text/plain": [
       "Class\n",
       "1    492\n",
       "0    473\n",
       "Name: count, dtype: int64"
      ]
     },
     "execution_count": 27,
     "metadata": {},
     "output_type": "execute_result"
    }
   ],
   "source": [
    "new_data['Class'].value_counts()"
   ]
  },
  {
   "cell_type": "code",
   "execution_count": 28,
   "id": "4886cd5f",
   "metadata": {
    "execution": {
     "iopub.execute_input": "2024-07-07T13:50:22.180649Z",
     "iopub.status.busy": "2024-07-07T13:50:22.180275Z",
     "iopub.status.idle": "2024-07-07T13:50:22.186329Z",
     "shell.execute_reply": "2024-07-07T13:50:22.185331Z"
    },
    "papermill": {
     "duration": 0.022751,
     "end_time": "2024-07-07T13:50:22.188498",
     "exception": false,
     "start_time": "2024-07-07T13:50:22.165747",
     "status": "completed"
    },
    "tags": []
   },
   "outputs": [],
   "source": [
    "X = new_data.drop('Class', axis = 1)\n",
    "y= new_data['Class']"
   ]
  },
  {
   "cell_type": "code",
   "execution_count": 29,
   "id": "66d9ef4e",
   "metadata": {
    "execution": {
     "iopub.execute_input": "2024-07-07T13:50:22.218307Z",
     "iopub.status.busy": "2024-07-07T13:50:22.217548Z",
     "iopub.status.idle": "2024-07-07T13:50:22.225133Z",
     "shell.execute_reply": "2024-07-07T13:50:22.224300Z"
    },
    "papermill": {
     "duration": 0.025183,
     "end_time": "2024-07-07T13:50:22.227162",
     "exception": false,
     "start_time": "2024-07-07T13:50:22.201979",
     "status": "completed"
    },
    "tags": []
   },
   "outputs": [],
   "source": [
    "X_train, X_test, y_train, y_test = train_test_split(X, y, test_size = 0.2, random_state = 42)"
   ]
  },
  {
   "cell_type": "code",
   "execution_count": 30,
   "id": "3b8dd452",
   "metadata": {
    "execution": {
     "iopub.execute_input": "2024-07-07T13:50:22.255219Z",
     "iopub.status.busy": "2024-07-07T13:50:22.254855Z",
     "iopub.status.idle": "2024-07-07T13:50:22.345223Z",
     "shell.execute_reply": "2024-07-07T13:50:22.344158Z"
    },
    "papermill": {
     "duration": 0.107835,
     "end_time": "2024-07-07T13:50:22.348294",
     "exception": false,
     "start_time": "2024-07-07T13:50:22.240459",
     "status": "completed"
    },
    "tags": []
   },
   "outputs": [
    {
     "name": "stdout",
     "output_type": "stream",
     "text": [
      "\n",
      "==========Logistic Regression===========\n",
      "\n",
      " Accuaracy: 0.9222797927461139\n",
      "\n",
      " Precision: 0.9680851063829787\n",
      "\n",
      " Recall: 0.883495145631068\n",
      "\n",
      " F1 Score: 0.9238578680203046\n",
      "\n",
      "==========Decision Tree Classifier===========\n",
      "\n",
      " Accuaracy: 0.8860103626943006\n",
      "\n",
      " Precision: 0.9090909090909091\n",
      "\n",
      " Recall: 0.8737864077669902\n",
      "\n",
      " F1 Score: 0.891089108910891\n"
     ]
    }
   ],
   "source": [
    "classifier = {\n",
    "    \"Logistic Regression\": LogisticRegression(),\n",
    "    \"Decision Tree Classifier\": DecisionTreeClassifier()\n",
    "}\n",
    "\n",
    "for name, clf in classifier.items():\n",
    "    print(f\"\\n=========={name}===========\")\n",
    "    clf.fit(X_train, y_train)\n",
    "    y_pred = clf.predict(X_test)\n",
    "    print(f\"\\n Accuaracy: {accuracy_score(y_test, y_pred)}\")\n",
    "    print(f\"\\n Precision: {precision_score(y_test, y_pred)}\")\n",
    "    print(f\"\\n Recall: {recall_score(y_test, y_pred)}\")\n",
    "    print(f\"\\n F1 Score: {f1_score(y_test, y_pred)}\")"
   ]
  },
  {
   "cell_type": "code",
   "execution_count": 31,
   "id": "0097ac71",
   "metadata": {
    "execution": {
     "iopub.execute_input": "2024-07-07T13:50:22.394209Z",
     "iopub.status.busy": "2024-07-07T13:50:22.393703Z",
     "iopub.status.idle": "2024-07-07T13:50:22.425410Z",
     "shell.execute_reply": "2024-07-07T13:50:22.424317Z"
    },
    "papermill": {
     "duration": 0.057785,
     "end_time": "2024-07-07T13:50:22.427999",
     "exception": false,
     "start_time": "2024-07-07T13:50:22.370214",
     "status": "completed"
    },
    "tags": []
   },
   "outputs": [],
   "source": [
    "X = data.drop('Class', axis = 1)\n",
    "y= data['Class']"
   ]
  },
  {
   "cell_type": "code",
   "execution_count": 32,
   "id": "600d8ba5",
   "metadata": {
    "execution": {
     "iopub.execute_input": "2024-07-07T13:50:22.456481Z",
     "iopub.status.busy": "2024-07-07T13:50:22.456083Z",
     "iopub.status.idle": "2024-07-07T13:50:22.462442Z",
     "shell.execute_reply": "2024-07-07T13:50:22.461438Z"
    },
    "papermill": {
     "duration": 0.02322,
     "end_time": "2024-07-07T13:50:22.464794",
     "exception": false,
     "start_time": "2024-07-07T13:50:22.441574",
     "status": "completed"
    },
    "tags": []
   },
   "outputs": [
    {
     "data": {
      "text/plain": [
       "(284807, 29)"
      ]
     },
     "execution_count": 32,
     "metadata": {},
     "output_type": "execute_result"
    }
   ],
   "source": [
    "X.shape"
   ]
  },
  {
   "cell_type": "code",
   "execution_count": 33,
   "id": "6533202d",
   "metadata": {
    "execution": {
     "iopub.execute_input": "2024-07-07T13:50:22.493782Z",
     "iopub.status.busy": "2024-07-07T13:50:22.492890Z",
     "iopub.status.idle": "2024-07-07T13:50:22.499003Z",
     "shell.execute_reply": "2024-07-07T13:50:22.498047Z"
    },
    "papermill": {
     "duration": 0.022718,
     "end_time": "2024-07-07T13:50:22.501159",
     "exception": false,
     "start_time": "2024-07-07T13:50:22.478441",
     "status": "completed"
    },
    "tags": []
   },
   "outputs": [
    {
     "data": {
      "text/plain": [
       "(284807,)"
      ]
     },
     "execution_count": 33,
     "metadata": {},
     "output_type": "execute_result"
    }
   ],
   "source": [
    "y.shape\n"
   ]
  },
  {
   "cell_type": "code",
   "execution_count": 34,
   "id": "fe07117a",
   "metadata": {
    "execution": {
     "iopub.execute_input": "2024-07-07T13:50:22.530115Z",
     "iopub.status.busy": "2024-07-07T13:50:22.529740Z",
     "iopub.status.idle": "2024-07-07T13:50:22.667267Z",
     "shell.execute_reply": "2024-07-07T13:50:22.666197Z"
    },
    "papermill": {
     "duration": 0.154961,
     "end_time": "2024-07-07T13:50:22.669871",
     "exception": false,
     "start_time": "2024-07-07T13:50:22.514910",
     "status": "completed"
    },
    "tags": []
   },
   "outputs": [],
   "source": [
    "from imblearn.over_sampling import SMOTE"
   ]
  },
  {
   "cell_type": "code",
   "execution_count": 35,
   "id": "8a89e8f9",
   "metadata": {
    "execution": {
     "iopub.execute_input": "2024-07-07T13:50:22.699004Z",
     "iopub.status.busy": "2024-07-07T13:50:22.698406Z",
     "iopub.status.idle": "2024-07-07T13:50:23.294016Z",
     "shell.execute_reply": "2024-07-07T13:50:23.293001Z"
    },
    "papermill": {
     "duration": 0.612684,
     "end_time": "2024-07-07T13:50:23.296311",
     "exception": false,
     "start_time": "2024-07-07T13:50:22.683627",
     "status": "completed"
    },
    "tags": []
   },
   "outputs": [
    {
     "data": {
      "text/plain": [
       "Class\n",
       "0    284315\n",
       "1    284315\n",
       "Name: count, dtype: int64"
      ]
     },
     "execution_count": 35,
     "metadata": {},
     "output_type": "execute_result"
    }
   ],
   "source": [
    "X_res, y_res = SMOTE().fit_resample(X,y)\n",
    "y_res.value_counts()"
   ]
  },
  {
   "cell_type": "code",
   "execution_count": 36,
   "id": "ee3ec87d",
   "metadata": {
    "execution": {
     "iopub.execute_input": "2024-07-07T13:50:23.325761Z",
     "iopub.status.busy": "2024-07-07T13:50:23.325391Z",
     "iopub.status.idle": "2024-07-07T13:50:23.649753Z",
     "shell.execute_reply": "2024-07-07T13:50:23.648706Z"
    },
    "papermill": {
     "duration": 0.341864,
     "end_time": "2024-07-07T13:50:23.652503",
     "exception": false,
     "start_time": "2024-07-07T13:50:23.310639",
     "status": "completed"
    },
    "tags": []
   },
   "outputs": [],
   "source": [
    "X_train, X_test, y_train, y_test = train_test_split(X_res, y_res, test_size = 0.2, random_state = 42)"
   ]
  },
  {
   "cell_type": "code",
   "execution_count": 37,
   "id": "93875767",
   "metadata": {
    "execution": {
     "iopub.execute_input": "2024-07-07T13:50:23.681980Z",
     "iopub.status.busy": "2024-07-07T13:50:23.681033Z",
     "iopub.status.idle": "2024-07-07T13:51:19.242420Z",
     "shell.execute_reply": "2024-07-07T13:51:19.241305Z"
    },
    "papermill": {
     "duration": 55.592159,
     "end_time": "2024-07-07T13:51:19.258302",
     "exception": false,
     "start_time": "2024-07-07T13:50:23.666143",
     "status": "completed"
    },
    "tags": []
   },
   "outputs": [
    {
     "name": "stdout",
     "output_type": "stream",
     "text": [
      "\n",
      "==========Logistic Regression===========\n",
      "\n",
      " Accuaracy: 0.9458435186325027\n",
      "\n",
      " Precision: 0.973959596336436\n",
      "\n",
      " Recall: 0.916403397921932\n",
      "\n",
      " F1 Score: 0.9443052855269701\n",
      "\n",
      "==========Decision Tree Classifier===========\n",
      "\n",
      " Accuaracy: 0.9980655259131597\n",
      "\n",
      " Precision: 0.9972664190089017\n",
      "\n",
      " Recall: 0.9988767200224656\n",
      "\n",
      " F1 Score: 0.9980709199957911\n"
     ]
    }
   ],
   "source": [
    "classifier = {\n",
    "    \"Logistic Regression\": LogisticRegression(),\n",
    "    \"Decision Tree Classifier\": DecisionTreeClassifier()\n",
    "}\n",
    "\n",
    "for name, clf in classifier.items():\n",
    "    print(f\"\\n=========={name}===========\")\n",
    "    clf.fit(X_train, y_train)\n",
    "    y_pred = clf.predict(X_test)\n",
    "    print(f\"\\n Accuaracy: {accuracy_score(y_test, y_pred)}\")\n",
    "    print(f\"\\n Precision: {precision_score(y_test, y_pred)}\")\n",
    "    print(f\"\\n Recall: {recall_score(y_test, y_pred)}\")\n",
    "    print(f\"\\n F1 Score: {f1_score(y_test, y_pred)}\")\n"
   ]
  },
  {
   "cell_type": "code",
   "execution_count": 38,
   "id": "866cb84a",
   "metadata": {
    "execution": {
     "iopub.execute_input": "2024-07-07T13:51:19.289440Z",
     "iopub.status.busy": "2024-07-07T13:51:19.288664Z",
     "iopub.status.idle": "2024-07-07T13:52:21.022944Z",
     "shell.execute_reply": "2024-07-07T13:52:21.021884Z"
    },
    "papermill": {
     "duration": 61.766221,
     "end_time": "2024-07-07T13:52:21.038834",
     "exception": false,
     "start_time": "2024-07-07T13:51:19.272613",
     "status": "completed"
    },
    "tags": []
   },
   "outputs": [
    {
     "data": {
      "text/html": [
       "<style>#sk-container-id-1 {color: black;background-color: white;}#sk-container-id-1 pre{padding: 0;}#sk-container-id-1 div.sk-toggleable {background-color: white;}#sk-container-id-1 label.sk-toggleable__label {cursor: pointer;display: block;width: 100%;margin-bottom: 0;padding: 0.3em;box-sizing: border-box;text-align: center;}#sk-container-id-1 label.sk-toggleable__label-arrow:before {content: \"▸\";float: left;margin-right: 0.25em;color: #696969;}#sk-container-id-1 label.sk-toggleable__label-arrow:hover:before {color: black;}#sk-container-id-1 div.sk-estimator:hover label.sk-toggleable__label-arrow:before {color: black;}#sk-container-id-1 div.sk-toggleable__content {max-height: 0;max-width: 0;overflow: hidden;text-align: left;background-color: #f0f8ff;}#sk-container-id-1 div.sk-toggleable__content pre {margin: 0.2em;color: black;border-radius: 0.25em;background-color: #f0f8ff;}#sk-container-id-1 input.sk-toggleable__control:checked~div.sk-toggleable__content {max-height: 200px;max-width: 100%;overflow: auto;}#sk-container-id-1 input.sk-toggleable__control:checked~label.sk-toggleable__label-arrow:before {content: \"▾\";}#sk-container-id-1 div.sk-estimator input.sk-toggleable__control:checked~label.sk-toggleable__label {background-color: #d4ebff;}#sk-container-id-1 div.sk-label input.sk-toggleable__control:checked~label.sk-toggleable__label {background-color: #d4ebff;}#sk-container-id-1 input.sk-hidden--visually {border: 0;clip: rect(1px 1px 1px 1px);clip: rect(1px, 1px, 1px, 1px);height: 1px;margin: -1px;overflow: hidden;padding: 0;position: absolute;width: 1px;}#sk-container-id-1 div.sk-estimator {font-family: monospace;background-color: #f0f8ff;border: 1px dotted black;border-radius: 0.25em;box-sizing: border-box;margin-bottom: 0.5em;}#sk-container-id-1 div.sk-estimator:hover {background-color: #d4ebff;}#sk-container-id-1 div.sk-parallel-item::after {content: \"\";width: 100%;border-bottom: 1px solid gray;flex-grow: 1;}#sk-container-id-1 div.sk-label:hover label.sk-toggleable__label {background-color: #d4ebff;}#sk-container-id-1 div.sk-serial::before {content: \"\";position: absolute;border-left: 1px solid gray;box-sizing: border-box;top: 0;bottom: 0;left: 50%;z-index: 0;}#sk-container-id-1 div.sk-serial {display: flex;flex-direction: column;align-items: center;background-color: white;padding-right: 0.2em;padding-left: 0.2em;position: relative;}#sk-container-id-1 div.sk-item {position: relative;z-index: 1;}#sk-container-id-1 div.sk-parallel {display: flex;align-items: stretch;justify-content: center;background-color: white;position: relative;}#sk-container-id-1 div.sk-item::before, #sk-container-id-1 div.sk-parallel-item::before {content: \"\";position: absolute;border-left: 1px solid gray;box-sizing: border-box;top: 0;bottom: 0;left: 50%;z-index: -1;}#sk-container-id-1 div.sk-parallel-item {display: flex;flex-direction: column;z-index: 1;position: relative;background-color: white;}#sk-container-id-1 div.sk-parallel-item:first-child::after {align-self: flex-end;width: 50%;}#sk-container-id-1 div.sk-parallel-item:last-child::after {align-self: flex-start;width: 50%;}#sk-container-id-1 div.sk-parallel-item:only-child::after {width: 0;}#sk-container-id-1 div.sk-dashed-wrapped {border: 1px dashed gray;margin: 0 0.4em 0.5em 0.4em;box-sizing: border-box;padding-bottom: 0.4em;background-color: white;}#sk-container-id-1 div.sk-label label {font-family: monospace;font-weight: bold;display: inline-block;line-height: 1.2em;}#sk-container-id-1 div.sk-label-container {text-align: center;}#sk-container-id-1 div.sk-container {/* jupyter's `normalize.less` sets `[hidden] { display: none; }` but bootstrap.min.css set `[hidden] { display: none !important; }` so we also need the `!important` here to be able to override the default hidden behavior on the sphinx rendered scikit-learn.org. See: https://github.com/scikit-learn/scikit-learn/issues/21755 */display: inline-block !important;position: relative;}#sk-container-id-1 div.sk-text-repr-fallback {display: none;}</style><div id=\"sk-container-id-1\" class=\"sk-top-container\"><div class=\"sk-text-repr-fallback\"><pre>DecisionTreeClassifier()</pre><b>In a Jupyter environment, please rerun this cell to show the HTML representation or trust the notebook. <br />On GitHub, the HTML representation is unable to render, please try loading this page with nbviewer.org.</b></div><div class=\"sk-container\" hidden><div class=\"sk-item\"><div class=\"sk-estimator sk-toggleable\"><input class=\"sk-toggleable__control sk-hidden--visually\" id=\"sk-estimator-id-1\" type=\"checkbox\" checked><label for=\"sk-estimator-id-1\" class=\"sk-toggleable__label sk-toggleable__label-arrow\">DecisionTreeClassifier</label><div class=\"sk-toggleable__content\"><pre>DecisionTreeClassifier()</pre></div></div></div></div></div>"
      ],
      "text/plain": [
       "DecisionTreeClassifier()"
      ]
     },
     "execution_count": 38,
     "metadata": {},
     "output_type": "execute_result"
    }
   ],
   "source": [
    "dtc = DecisionTreeClassifier()\n",
    "dtc.fit(X_res, y_res)"
   ]
  },
  {
   "cell_type": "code",
   "execution_count": 39,
   "id": "e07f8561",
   "metadata": {
    "execution": {
     "iopub.execute_input": "2024-07-07T13:52:21.069028Z",
     "iopub.status.busy": "2024-07-07T13:52:21.068142Z",
     "iopub.status.idle": "2024-07-07T13:52:21.073339Z",
     "shell.execute_reply": "2024-07-07T13:52:21.071770Z"
    },
    "papermill": {
     "duration": 0.023246,
     "end_time": "2024-07-07T13:52:21.076015",
     "exception": false,
     "start_time": "2024-07-07T13:52:21.052769",
     "status": "completed"
    },
    "tags": []
   },
   "outputs": [],
   "source": [
    "import joblib"
   ]
  },
  {
   "cell_type": "code",
   "execution_count": 40,
   "id": "b1bb0f41",
   "metadata": {
    "execution": {
     "iopub.execute_input": "2024-07-07T13:52:21.105871Z",
     "iopub.status.busy": "2024-07-07T13:52:21.105494Z",
     "iopub.status.idle": "2024-07-07T13:52:21.114222Z",
     "shell.execute_reply": "2024-07-07T13:52:21.113224Z"
    },
    "papermill": {
     "duration": 0.02584,
     "end_time": "2024-07-07T13:52:21.116281",
     "exception": false,
     "start_time": "2024-07-07T13:52:21.090441",
     "status": "completed"
    },
    "tags": []
   },
   "outputs": [
    {
     "data": {
      "text/plain": [
       "['credit_card_model.pkl']"
      ]
     },
     "execution_count": 40,
     "metadata": {},
     "output_type": "execute_result"
    }
   ],
   "source": [
    "joblib.dump(dtc, \"credit_card_model.pkl\")"
   ]
  },
  {
   "cell_type": "code",
   "execution_count": 41,
   "id": "ae93e1ba",
   "metadata": {
    "execution": {
     "iopub.execute_input": "2024-07-07T13:52:21.147048Z",
     "iopub.status.busy": "2024-07-07T13:52:21.146193Z",
     "iopub.status.idle": "2024-07-07T13:52:21.152769Z",
     "shell.execute_reply": "2024-07-07T13:52:21.151956Z"
    },
    "papermill": {
     "duration": 0.024239,
     "end_time": "2024-07-07T13:52:21.154912",
     "exception": false,
     "start_time": "2024-07-07T13:52:21.130673",
     "status": "completed"
    },
    "tags": []
   },
   "outputs": [],
   "source": [
    "model = joblib.load(\"credit_card_model.pkl\")"
   ]
  },
  {
   "cell_type": "code",
   "execution_count": 42,
   "id": "45f57931",
   "metadata": {
    "execution": {
     "iopub.execute_input": "2024-07-07T13:52:21.185038Z",
     "iopub.status.busy": "2024-07-07T13:52:21.184675Z",
     "iopub.status.idle": "2024-07-07T13:52:21.193111Z",
     "shell.execute_reply": "2024-07-07T13:52:21.192105Z"
    },
    "papermill": {
     "duration": 0.026128,
     "end_time": "2024-07-07T13:52:21.195507",
     "exception": false,
     "start_time": "2024-07-07T13:52:21.169379",
     "status": "completed"
    },
    "tags": []
   },
   "outputs": [
    {
     "name": "stderr",
     "output_type": "stream",
     "text": [
      "/opt/conda/lib/python3.10/site-packages/sklearn/base.py:439: UserWarning: X does not have valid feature names, but DecisionTreeClassifier was fitted with feature names\n",
      "  warnings.warn(\n"
     ]
    }
   ],
   "source": [
    "pred = model.predict([[-1.3598071336738,-0.0727811733098497,2.53634673796914,1.37815522427443,-0.338320769942518,0.462387777762292,0.239598554061257,0.0986979012610507,0.363786969611213,0.0907941719789316,-0.551599533260813,-0.617800855762348,-0.991389847235408,-0.311169353699879,1.46817697209427,-0.470400525259478,0.207971241929242,0.0257905801985591,0.403992960255733,0.251412098239705,-0.018306777944153,0.277837575558899,-0.110473910188767,0.0669280749146731,0.128539358273528,-0.189114843888824,0.133558376740387,-0.0210530534538215,149.62]])"
   ]
  },
  {
   "cell_type": "code",
   "execution_count": 43,
   "id": "a07d4966",
   "metadata": {
    "execution": {
     "iopub.execute_input": "2024-07-07T13:52:21.225258Z",
     "iopub.status.busy": "2024-07-07T13:52:21.224870Z",
     "iopub.status.idle": "2024-07-07T13:52:21.231399Z",
     "shell.execute_reply": "2024-07-07T13:52:21.230379Z"
    },
    "papermill": {
     "duration": 0.023648,
     "end_time": "2024-07-07T13:52:21.233339",
     "exception": false,
     "start_time": "2024-07-07T13:52:21.209691",
     "status": "completed"
    },
    "tags": []
   },
   "outputs": [
    {
     "data": {
      "text/plain": [
       "0"
      ]
     },
     "execution_count": 43,
     "metadata": {},
     "output_type": "execute_result"
    }
   ],
   "source": [
    "pred[0]"
   ]
  },
  {
   "cell_type": "code",
   "execution_count": 44,
   "id": "f3fe0e76",
   "metadata": {
    "execution": {
     "iopub.execute_input": "2024-07-07T13:52:21.262957Z",
     "iopub.status.busy": "2024-07-07T13:52:21.262580Z",
     "iopub.status.idle": "2024-07-07T13:52:21.267861Z",
     "shell.execute_reply": "2024-07-07T13:52:21.266909Z"
    },
    "papermill": {
     "duration": 0.022862,
     "end_time": "2024-07-07T13:52:21.270207",
     "exception": false,
     "start_time": "2024-07-07T13:52:21.247345",
     "status": "completed"
    },
    "tags": []
   },
   "outputs": [
    {
     "name": "stdout",
     "output_type": "stream",
     "text": [
      "Normal Transcation\n"
     ]
    }
   ],
   "source": [
    "if pred[0] == 0:\n",
    "    print(\"Normal Transcation\")\n",
    "else:\n",
    "    print(\"Fraud Transcation\")\n"
   ]
  }
 ],
 "metadata": {
  "kaggle": {
   "accelerator": "none",
   "dataSources": [
    {
     "datasetId": 310,
     "sourceId": 23498,
     "sourceType": "datasetVersion"
    }
   ],
   "dockerImageVersionId": 30732,
   "isGpuEnabled": false,
   "isInternetEnabled": false,
   "language": "python",
   "sourceType": "notebook"
  },
  "kernelspec": {
   "display_name": "Python 3",
   "language": "python",
   "name": "python3"
  },
  "language_info": {
   "codemirror_mode": {
    "name": "ipython",
    "version": 3
   },
   "file_extension": ".py",
   "mimetype": "text/x-python",
   "name": "python",
   "nbconvert_exporter": "python",
   "pygments_lexer": "ipython3",
   "version": "3.10.13"
  },
  "papermill": {
   "default_parameters": {},
   "duration": 130.920841,
   "end_time": "2024-07-07T13:52:21.910309",
   "environment_variables": {},
   "exception": null,
   "input_path": "__notebook__.ipynb",
   "output_path": "__notebook__.ipynb",
   "parameters": {},
   "start_time": "2024-07-07T13:50:10.989468",
   "version": "2.5.0"
  }
 },
 "nbformat": 4,
 "nbformat_minor": 5
}
